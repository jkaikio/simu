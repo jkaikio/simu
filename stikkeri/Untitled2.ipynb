{
 "cells": [
  {
   "cell_type": "code",
   "execution_count": 1,
   "metadata": {},
   "outputs": [],
   "source": [
    "import pandas as pd"
   ]
  },
  {
   "cell_type": "code",
   "execution_count": 2,
   "metadata": {},
   "outputs": [],
   "source": [
    "dt=pd.read_csv(\"testi.csv\",sep=\";\")"
   ]
  },
  {
   "cell_type": "code",
   "execution_count": null,
   "metadata": {},
   "outputs": [],
   "source": [
    "dt.to_csv(\"tst.csv\", sep=\";\")"
   ]
  },
  {
   "cell_type": "code",
   "execution_count": null,
   "metadata": {},
   "outputs": [],
   "source": [
    "dt.loc[0:5,[\"testi1\"]]"
   ]
  },
  {
   "cell_type": "code",
   "execution_count": null,
   "metadata": {},
   "outputs": [],
   "source": [
    "dt[dt.testi1>0]"
   ]
  },
  {
   "cell_type": "code",
   "execution_count": null,
   "metadata": {
    "scrolled": true
   },
   "outputs": [],
   "source": [
    "dt.loc[0:5,\"testi1\":\"testi3\"]"
   ]
  },
  {
   "cell_type": "code",
   "execution_count": 35,
   "metadata": {},
   "outputs": [],
   "source": [
    "xdt=pd.read_excel(\"book3.xlsx\",sep=\" \")"
   ]
  },
  {
   "cell_type": "code",
   "execution_count": 14,
   "metadata": {},
   "outputs": [],
   "source": [
    "xdtT.to_excel(\"book3T.xlsx\")"
   ]
  },
  {
   "cell_type": "code",
   "execution_count": 36,
   "metadata": {},
   "outputs": [],
   "source": [
    "xdtT=xdt.T"
   ]
  },
  {
   "cell_type": "code",
   "execution_count": 37,
   "metadata": {},
   "outputs": [
    {
     "ename": "TypeError",
     "evalue": "sort_values() missing 1 required positional argument: 'by'",
     "output_type": "error",
     "traceback": [
      "\u001b[1;31m---------------------------------------------------------------------------\u001b[0m",
      "\u001b[1;31mTypeError\u001b[0m                                 Traceback (most recent call last)",
      "\u001b[1;32m<ipython-input-37-19dedea0efc8>\u001b[0m in \u001b[0;36m<module>\u001b[1;34m()\u001b[0m\n\u001b[1;32m----> 1\u001b[1;33m \u001b[0mxdtT\u001b[0m\u001b[1;33m.\u001b[0m\u001b[0msort_values\u001b[0m\u001b[1;33m(\u001b[0m\u001b[1;33m)\u001b[0m\u001b[1;33m\u001b[0m\u001b[0m\n\u001b[0m",
      "\u001b[1;31mTypeError\u001b[0m: sort_values() missing 1 required positional argument: 'by'"
     ]
    }
   ],
   "source": [
    "xdtT.sort_values()"
   ]
  },
  {
   "cell_type": "code",
   "execution_count": 38,
   "metadata": {},
   "outputs": [
    {
     "data": {
      "text/html": [
       "<div>\n",
       "<style scoped>\n",
       "    .dataframe tbody tr th:only-of-type {\n",
       "        vertical-align: middle;\n",
       "    }\n",
       "\n",
       "    .dataframe tbody tr th {\n",
       "        vertical-align: top;\n",
       "    }\n",
       "\n",
       "    .dataframe thead th {\n",
       "        text-align: right;\n",
       "    }\n",
       "</style>\n",
       "<table border=\"1\" class=\"dataframe\">\n",
       "  <thead>\n",
       "    <tr style=\"text-align: right;\">\n",
       "      <th></th>\n",
       "      <th>nan</th>\n",
       "    </tr>\n",
       "  </thead>\n",
       "  <tbody>\n",
       "    <tr>\n",
       "      <th>1</th>\n",
       "      <td>mika.klemettinen@businessfinland.fi</td>\n",
       "    </tr>\n",
       "    <tr>\n",
       "      <th>2</th>\n",
       "      <td>tiina.nurmi@businessfinland.fi</td>\n",
       "    </tr>\n",
       "    <tr>\n",
       "      <th>3</th>\n",
       "      <td>Jukka Riekki &lt;Jukka.Riekki@oulu.fi&gt;</td>\n",
       "    </tr>\n",
       "    <tr>\n",
       "      <th>4</th>\n",
       "      <td>Jaakko Sauvola &lt;Jaakko.Sauvola@oulu.fi&gt;</td>\n",
       "    </tr>\n",
       "    <tr>\n",
       "      <th>5</th>\n",
       "      <td>Arto Maaninen &lt;Arto.Maaninen@oulu.fi&gt;</td>\n",
       "    </tr>\n",
       "    <tr>\n",
       "      <th>6</th>\n",
       "      <td>Ext-Rontu Jari-Pekka &lt;Jari-Pekka.Rontu@oamk.fi&gt;</td>\n",
       "    </tr>\n",
       "    <tr>\n",
       "      <th>7</th>\n",
       "      <td>jyrki.laitinen@oamk.fi</td>\n",
       "    </tr>\n",
       "    <tr>\n",
       "      <th>8</th>\n",
       "      <td>Kopola Harri &lt;Harri.Kopola@vtt.fi&gt;</td>\n",
       "    </tr>\n",
       "    <tr>\n",
       "      <th>9</th>\n",
       "      <td>Paakkari Jussi &lt;Jussi.Paakkari@vtt.fi&gt;</td>\n",
       "    </tr>\n",
       "    <tr>\n",
       "      <th>10</th>\n",
       "      <td>Merimaa Mikko &lt;Mikko.Merimaa@vtt.fi&gt;</td>\n",
       "    </tr>\n",
       "    <tr>\n",
       "      <th>11</th>\n",
       "      <td>janne.mustonen@businessoulu.com</td>\n",
       "    </tr>\n",
       "    <tr>\n",
       "      <th>12</th>\n",
       "      <td>Paavo Kosonen &lt;Paavo.Kosonen@oulu.fi&gt;</td>\n",
       "    </tr>\n",
       "    <tr>\n",
       "      <th>13</th>\n",
       "      <td>Aikio Janne &lt;Janne.Aikio@vtt.fi&gt;</td>\n",
       "    </tr>\n",
       "    <tr>\n",
       "      <th>14</th>\n",
       "      <td>Hyväri Harri &lt;Harri.Hyvari@vtt.fi&gt;</td>\n",
       "    </tr>\n",
       "    <tr>\n",
       "      <th>15</th>\n",
       "      <td>Ext-Liukkunen Kari &lt;Kari.Liukkunen@oulu.fi&gt;</td>\n",
       "    </tr>\n",
       "    <tr>\n",
       "      <th>16</th>\n",
       "      <td>Ext-Jurmu Marko &lt;marko.jurmu@oulu.fi&gt;</td>\n",
       "    </tr>\n",
       "    <tr>\n",
       "      <th>17</th>\n",
       "      <td>Matti Kinnunen &lt;matti.kinnunen@oulu.fi&gt;</td>\n",
       "    </tr>\n",
       "    <tr>\n",
       "      <th>18</th>\n",
       "      <td>Ext-Tyrvainen Pasi &lt;pasi.tyrvainen@jyu.fi&gt;</td>\n",
       "    </tr>\n",
       "    <tr>\n",
       "      <th>19</th>\n",
       "      <td>pasi.raiskinmaki@jamk.fi</td>\n",
       "    </tr>\n",
       "    <tr>\n",
       "      <th>20</th>\n",
       "      <td>Jetsu Petri &lt;Petri.Jetsu@vtt.fi&gt;</td>\n",
       "    </tr>\n",
       "    <tr>\n",
       "      <th>21</th>\n",
       "      <td>Risto Talja &lt;Risto.Talja@oulu.fi&gt;</td>\n",
       "    </tr>\n",
       "    <tr>\n",
       "      <th>22</th>\n",
       "      <td>pauli.kuosmanen@tut.fi</td>\n",
       "    </tr>\n",
       "    <tr>\n",
       "      <th>23</th>\n",
       "      <td>kari.t.koskinen@tut.fi</td>\n",
       "    </tr>\n",
       "    <tr>\n",
       "      <th>24</th>\n",
       "      <td>Mikkonen Päivi &lt;Paivi.Mikkonen@vtt.fi&gt;</td>\n",
       "    </tr>\n",
       "    <tr>\n",
       "      <th>25</th>\n",
       "      <td>Kortelainen Helena &lt;Helena.Kortelainen@vtt.fi&gt;</td>\n",
       "    </tr>\n",
       "    <tr>\n",
       "      <th>26</th>\n",
       "      <td>Mirva.Salokorpi@novia.fi</td>\n",
       "    </tr>\n",
       "    <tr>\n",
       "      <th>27</th>\n",
       "      <td>Ext-Paavola Jarkko &lt;Jarkko.Paavola@turkuamk.fi&gt;</td>\n",
       "    </tr>\n",
       "    <tr>\n",
       "      <th>28</th>\n",
       "      <td>mikko.pohjola@utu.fi</td>\n",
       "    </tr>\n",
       "    <tr>\n",
       "      <th>29</th>\n",
       "      <td>Ext-Lilius Johan &lt;Johan.Lilius@abo.fi&gt;</td>\n",
       "    </tr>\n",
       "    <tr>\n",
       "      <th>30</th>\n",
       "      <td>Ext-Tarkoma Sasu &lt;sasu.tarkoma@helsinki.fi&gt;</td>\n",
       "    </tr>\n",
       "    <tr>\n",
       "      <th>31</th>\n",
       "      <td>tommi.mikkonen@helsinki.fi</td>\n",
       "    </tr>\n",
       "    <tr>\n",
       "      <th>32</th>\n",
       "      <td>jan.myller@helsinki.fi</td>\n",
       "    </tr>\n",
       "    <tr>\n",
       "      <th>33</th>\n",
       "      <td>Kaisto Ilkka &lt;Ilkka.Kaisto@vtt.fi&gt;</td>\n",
       "    </tr>\n",
       "    <tr>\n",
       "      <th>34</th>\n",
       "      <td>Pekka Jokitalo &lt;pekka.jokitalo@oulu.fi&gt;</td>\n",
       "    </tr>\n",
       "    <tr>\n",
       "      <th>35</th>\n",
       "      <td>Ext-Jokitalo Pekka &lt;pekka.jokitalo@verkotan.com&gt;</td>\n",
       "    </tr>\n",
       "    <tr>\n",
       "      <th>36</th>\n",
       "      <td>Saari Leila &lt;leila.saari@vtt.fi&gt;</td>\n",
       "    </tr>\n",
       "    <tr>\n",
       "      <th>37</th>\n",
       "      <td>kimmo.paajanen@oamk.fi</td>\n",
       "    </tr>\n",
       "    <tr>\n",
       "      <th>38</th>\n",
       "      <td>jussi.kangasoja@oamk.fi</td>\n",
       "    </tr>\n",
       "    <tr>\n",
       "      <th>39</th>\n",
       "      <td>timo.lind@oamk.fi</td>\n",
       "    </tr>\n",
       "    <tr>\n",
       "      <th>40</th>\n",
       "      <td>pasi.pirttiaho@oamk.fi</td>\n",
       "    </tr>\n",
       "    <tr>\n",
       "      <th>41</th>\n",
       "      <td>NaN</td>\n",
       "    </tr>\n",
       "  </tbody>\n",
       "</table>\n",
       "</div>"
      ],
      "text/plain": [
       "                                                  NaN\n",
       "1                 mika.klemettinen@businessfinland.fi\n",
       "2                      tiina.nurmi@businessfinland.fi\n",
       "3                 Jukka Riekki <Jukka.Riekki@oulu.fi>\n",
       "4             Jaakko Sauvola <Jaakko.Sauvola@oulu.fi>\n",
       "5               Arto Maaninen <Arto.Maaninen@oulu.fi>\n",
       "6     Ext-Rontu Jari-Pekka <Jari-Pekka.Rontu@oamk.fi>\n",
       "7                              jyrki.laitinen@oamk.fi\n",
       "8                  Kopola Harri <Harri.Kopola@vtt.fi>\n",
       "9              Paakkari Jussi <Jussi.Paakkari@vtt.fi>\n",
       "10               Merimaa Mikko <Mikko.Merimaa@vtt.fi>\n",
       "11                    janne.mustonen@businessoulu.com\n",
       "12              Paavo Kosonen <Paavo.Kosonen@oulu.fi>\n",
       "13                   Aikio Janne <Janne.Aikio@vtt.fi>\n",
       "14                 Hyväri Harri <Harri.Hyvari@vtt.fi>\n",
       "15        Ext-Liukkunen Kari <Kari.Liukkunen@oulu.fi>\n",
       "16              Ext-Jurmu Marko <marko.jurmu@oulu.fi>\n",
       "17            Matti Kinnunen <matti.kinnunen@oulu.fi>\n",
       "18         Ext-Tyrvainen Pasi <pasi.tyrvainen@jyu.fi>\n",
       "19                           pasi.raiskinmaki@jamk.fi\n",
       "20                   Jetsu Petri <Petri.Jetsu@vtt.fi>\n",
       "21                  Risto Talja <Risto.Talja@oulu.fi>\n",
       "22                             pauli.kuosmanen@tut.fi\n",
       "23                             kari.t.koskinen@tut.fi\n",
       "24             Mikkonen Päivi <Paivi.Mikkonen@vtt.fi>\n",
       "25     Kortelainen Helena <Helena.Kortelainen@vtt.fi>\n",
       "26                           Mirva.Salokorpi@novia.fi\n",
       "27    Ext-Paavola Jarkko <Jarkko.Paavola@turkuamk.fi>\n",
       "28                               mikko.pohjola@utu.fi\n",
       "29             Ext-Lilius Johan <Johan.Lilius@abo.fi>\n",
       "30        Ext-Tarkoma Sasu <sasu.tarkoma@helsinki.fi>\n",
       "31                         tommi.mikkonen@helsinki.fi\n",
       "32                             jan.myller@helsinki.fi\n",
       "33                 Kaisto Ilkka <Ilkka.Kaisto@vtt.fi>\n",
       "34            Pekka Jokitalo <pekka.jokitalo@oulu.fi>\n",
       "35   Ext-Jokitalo Pekka <pekka.jokitalo@verkotan.com>\n",
       "36                   Saari Leila <leila.saari@vtt.fi>\n",
       "37                             kimmo.paajanen@oamk.fi\n",
       "38                            jussi.kangasoja@oamk.fi\n",
       "39                                  timo.lind@oamk.fi\n",
       "40                             pasi.pirttiaho@oamk.fi\n",
       "41                                                NaN"
      ]
     },
     "execution_count": 38,
     "metadata": {},
     "output_type": "execute_result"
    }
   ],
   "source": [
    "xdtT"
   ]
  },
  {
   "cell_type": "code",
   "execution_count": null,
   "metadata": {},
   "outputs": [],
   "source": []
  }
 ],
 "metadata": {
  "kernelspec": {
   "display_name": "Python 3",
   "language": "python",
   "name": "python3"
  },
  "language_info": {
   "codemirror_mode": {
    "name": "ipython",
    "version": 3
   },
   "file_extension": ".py",
   "mimetype": "text/x-python",
   "name": "python",
   "nbconvert_exporter": "python",
   "pygments_lexer": "ipython3",
   "version": "3.6.4"
  }
 },
 "nbformat": 4,
 "nbformat_minor": 2
}
