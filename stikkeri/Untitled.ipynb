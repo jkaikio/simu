{
 "cells": [
  {
   "cell_type": "code",
   "execution_count": 15,
   "metadata": {},
   "outputs": [],
   "source": [
    "import cv2\n",
    "import numpy as np\n",
    "from graphtools import *\n",
    "from random import shuffle"
   ]
  },
  {
   "cell_type": "code",
   "execution_count": 17,
   "metadata": {},
   "outputs": [
    {
     "data": {
      "text/plain": [
       "-1"
      ]
     },
     "execution_count": 17,
     "metadata": {},
     "output_type": "execute_result"
    }
   ],
   "source": [
    "nnodes=7\n",
    "nnodegroups = 1\n",
    "\n",
    "rxy=100\n",
    "rsz=20\n",
    "\n",
    "nodes =[]\n",
    "for i in range(nnodes):\n",
    "    n=node(np.random.random()*rxy,np.random.random()\\\n",
    "           *rxy,np.random.random()*rsz+3,np.random.random()*rsz+3)\n",
    "    nodes.append(n)\n",
    "for i in range(len(nodes)-1):\n",
    "    ns=nodes.copy()\n",
    "    shuffle(ns)\n",
    "    nodes[i+1].conn.append(ns[i-1])\n",
    "    nodes[-1-i].conn.append(ns[-i])\n",
    "nodegroups=[]\n",
    "for i in range(nnodegroups):\n",
    "    ln=int(len(nodes)/nnodegroups)\n",
    "    ngn=nodes[i*ln:(i+1)*ln]\n",
    "    x=0\n",
    "    y=0\n",
    "    for gn in ngn:\n",
    "        x+=gn.x/ln\n",
    "        y+=gn.y/ln\n",
    "    ng=nodegroup(x,y,80,80,ngn)\n",
    "    nodegroups.append(ng)\n",
    "GR=graph(nodes,nodegroups)\n",
    "\n",
    "\n",
    "cv2.startWindowThread()\n",
    "#while True:\n",
    "nodegroups[0].BoundingBoxSet(resize=True)\n",
    "img = GR.DrawGraph()\n",
    "cv2.imshow(\"Graafi\",img)\n",
    "inp= cv2.waitKey(1)\n",
    "#for i in range(len(nodegroups[0].nodes)):\n",
    "nodegroups[0].collapse(np.array([.001,-1]))\n",
    "img = GR.DrawGraph()\n",
    "cv2.imshow(\"Graafi2\",img)\n",
    "inp= cv2.waitKey(3000)\n",
    "#    if inp==27:\n",
    "#        break\n",
    "\n",
    "cv2.destroyAllWindows()\n",
    "cv2.waitKey(1)"
   ]
  },
  {
   "cell_type": "code",
   "execution_count": null,
   "metadata": {},
   "outputs": [],
   "source": []
  }
 ],
 "metadata": {
  "kernelspec": {
   "display_name": "Python 3",
   "language": "python",
   "name": "python3"
  },
  "language_info": {
   "codemirror_mode": {
    "name": "ipython",
    "version": 3
   },
   "file_extension": ".py",
   "mimetype": "text/x-python",
   "name": "python",
   "nbconvert_exporter": "python",
   "pygments_lexer": "ipython3",
   "version": "3.6.4"
  }
 },
 "nbformat": 4,
 "nbformat_minor": 2
}
