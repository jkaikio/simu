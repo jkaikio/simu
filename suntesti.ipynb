{
 "cells": [
  {
   "cell_type": "code",
   "execution_count": 2,
   "metadata": {},
   "outputs": [],
   "source": [
    "import pylab as pl\n",
    "import numpy as np\n",
    "import time\n",
    "from sun import *"
   ]
  },
  {
   "cell_type": "code",
   "execution_count": null,
   "metadata": {},
   "outputs": [],
   "source": []
  },
  {
   "cell_type": "code",
   "execution_count": 17,
   "metadata": {},
   "outputs": [
    {
     "name": "stdout",
     "output_type": "stream",
     "text": [
      "Nousu: 05:20:12 Lasku: 21:13:47\n"
     ]
    }
   ],
   "source": [
    "N,L = AuNousuLaskuTarkka(vuodenpaiva=111)\n",
    "print(\"Nousu:\",time.ctime((N-1)*3600)[11:-5],\"Lasku:\",time.ctime((L-1)*3600)[11:-5])"
   ]
  },
  {
   "cell_type": "code",
   "execution_count": null,
   "metadata": {},
   "outputs": [],
   "source": [
    "day=np.arange(365)\n",
    "hour=np.arange(24)\n",
    "AK=[]\n",
    "hh=[]\n",
    "hshift=AuPituuspiiriKorjaus(25.46820) #Oulun pituuspiiri\n",
    "for d in day:\n",
    "    for h in hour:\n",
    "        hshift=hshift-AuEoTKorjaus(float(d))\n",
    "        AK.append(AuKorkeus(d,h-hshift,65))\n",
    "        hh.append(h/24+d)\n",
    "pl.plot(hh,AK)\n",
    "pl.grid()\n",
    "pl.show()"
   ]
  },
  {
   "cell_type": "code",
   "execution_count": null,
   "metadata": {},
   "outputs": [],
   "source": [
    "t=time.localtime()\n",
    "d=t.tm_yday\n",
    "hour=np.arange(0,24,0.01)\n",
    "AK=[]\n",
    "AKK=[]\n",
    "DA=[]\n",
    "hh=[]\n",
    "hshift=AuPituuspiiriKorjaus(25.46820) #Oulun pituuspiiri\n",
    "for h in hour:\n",
    "    hs=hshift-AuEoTKorjaus(float(d))\n",
    "    ak=AuKorkeus(d,h-hshift/60,65)\n",
    "    akk=AuKorkeusRefraktio(ak)\n",
    "    da=akk-ak\n",
    "    AK.append(ak)\n",
    "    AKK.append(akk)\n",
    "    DA.append(da)\n",
    "    hh.append(h)\n",
    "pl.plot(hh,AKK)\n",
    "pl.plot(hh,AK)\n",
    "pl.grid()\n",
    "pl.show()\n",
    "pl.plot(hh,DA)\n",
    "\n",
    "pl.grid()\n",
    "pl.show()"
   ]
  },
  {
   "cell_type": "code",
   "execution_count": null,
   "metadata": {},
   "outputs": [],
   "source": [
    "a=[-1, -1, -1, 0, -1]\n",
    "\n",
    "list(np.where(np.diff(np.sign(a)))[0])==[]"
   ]
  },
  {
   "cell_type": "code",
   "execution_count": null,
   "metadata": {},
   "outputs": [],
   "source": [
    "day=np.arange(365)\n",
    "#hshift=AuPituuspiiriKorjaus(position[1]) #25.46820) #Oulun pituuspiiri\n",
    "#hshift=hshift-AuEoTKorjaus(float(day))\n",
    "\n",
    "AN=[]\n",
    "AL=[]\n",
    "hshift=AuPituuspiiriKorjaus(25.46820) #Oulun pituuspiiri\n",
    "\n",
    "for d in day:\n",
    "    hs=(hshift-AuEoTKorjaus(float(d)))/60.0\n",
    "    N,L = AuNousuLasku(d,65)\n",
    "    AN.append(N+hs)\n",
    "    AL.append(L+hs)\n",
    "pl.plot(day,AN)\n",
    "pl.plot(day,AL)\n",
    "pl.grid()\n",
    "pl.show()    "
   ]
  },
  {
   "cell_type": "code",
   "execution_count": 16,
   "metadata": {},
   "outputs": [
    {
     "data": {
      "image/png": "[encoded data removed]",
      "text/plain": [
       "<matplotlib.figure.Figure at 0x10f4cfb70>"
      ]
     },
     "metadata": {},
     "output_type": "display_data"
    }
   ],
   "source": [
    "day=np.arange(365)\n",
    "#hshift=AuPituuspiiriKorjaus(position[1]) #25.46820) #Oulun pituuspiiri\n",
    "#hshift=hshift-AuEoTKorjaus(float(day))\n",
    "\n",
    "AN=[]\n",
    "AL=[]\n",
    "for d in day:\n",
    "    N,L = AuNousuLaskuTarkka(vuodenpaiva=d,leveyspiiri=65.45)\n",
    "    AN.append(N)\n",
    "    AL.append(L)\n",
    "pl.plot(day,AN)\n",
    "pl.plot(day,AL)\n",
    "pl.grid()\n",
    "pl.show() "
   ]
  },
  {
   "cell_type": "code",
   "execution_count": null,
   "metadata": {},
   "outputs": [],
   "source": [
    "#day=np.arange(365)\n",
    "t=time.localtime()\n",
    "d=t.tm_yday\n",
    "\n",
    "AN=[]\n",
    "AL=[]\n",
    "hshift=AuPituuspiiriKorjaus(25.46820) #Oulun pituuspiiri\n",
    "\n",
    "\n",
    "hs=(hshift-AuEoTKorjaus(float(d)))/60.0\n",
    "N,L = AuNousuLasku(d,65)\n",
    "tN=float((N+hs-2)*3600)\n",
    "tL=float((L+hs-2)*3600)\n",
    "print(N+hs,L+hs)\n",
    "print(\"Nousu:\"+time.ctime(d*24*3600+tN))\n",
    "print(\"Lasku:\"+time.ctime(d*24*3600+tL))\n",
    "\n",
    "sunhN=AuKorkeus(d,N,65)\n",
    "sunhL=AuKorkeus(d,L,65)  \n",
    "print(sunhN,sunhL)\n",
    "sunhrN=AuKorkeusRefraktio(sunhN)\n",
    "sunhrL=AuKorkeusRefraktio(sunhL)\n",
    "print(sunhrN,sunhrL)\n",
    "print()\n",
    "sunhN=AuKorkeus(d,4+19.785/60.0-hs,65)\n",
    "sunhL=AuKorkeus(d,20+14.215/60-hs,65)  \n",
    "print(sunhN,sunhL)\n",
    "sunhrN=AuKorkeusRefraktio(sunhN)\n",
    "sunhrL=AuKorkeusRefraktio(sunhL)\n",
    "print(sunhrN,sunhrL)\n"
   ]
  },
  {
   "cell_type": "code",
   "execution_count": null,
   "metadata": {},
   "outputs": [],
   "source": [
    "time.ctime(0)"
   ]
  },
  {
   "cell_type": "code",
   "execution_count": null,
   "metadata": {},
   "outputs": [],
   "source": [
    "AuKorkeus(111,4+21/60-hs,65)"
   ]
  },
  {
   "cell_type": "code",
   "execution_count": null,
   "metadata": {},
   "outputs": [],
   "source": [
    "time.localtime(172*24*3600)"
   ]
  },
  {
   "cell_type": "code",
   "execution_count": null,
   "metadata": {},
   "outputs": [],
   "source": [
    "hshift"
   ]
  },
  {
   "cell_type": "code",
   "execution_count": 30,
   "metadata": {},
   "outputs": [
    {
     "data": {
      "text/plain": [
       "0.7853981633974483"
      ]
     },
     "execution_count": 30,
     "metadata": {},
     "output_type": "execute_result"
    }
   ],
   "source": [
    "np.arctan()"
   ]
  },
  {
   "cell_type": "code",
   "execution_count": 35,
   "metadata": {},
   "outputs": [
    {
     "data": {
      "image/png": "[encoded data removed]",
      "text/plain": [
       "<matplotlib.figure.Figure at 0x10f814ac8>"
      ]
     },
     "metadata": {},
     "output_type": "display_data"
    }
   ],
   "source": [
    "d=np.arange(0,5,.01)\n",
    "pl.plot(d,np.arctan(d))\n",
    "pl.plot(d,np.sqrt((d/5))*1.4)\n",
    "pl.show()"
   ]
  },
  {
   "cell_type": "code",
   "execution_count": null,
   "metadata": {},
   "outputs": [],
   "source": []
  }
 ],
 "metadata": {
  "kernelspec": {
   "display_name": "Python 3",
   "language": "python",
   "name": "python3"
  },
  "language_info": {
   "codemirror_mode": {
    "name": "ipython",
    "version": 3
   },
   "file_extension": ".py",
   "mimetype": "text/x-python",
   "name": "python",
   "nbconvert_exporter": "python",
   "pygments_lexer": "ipython3",
   "version": "3.6.4"
  }
 },
 "nbformat": 4,
 "nbformat_minor": 2
}
