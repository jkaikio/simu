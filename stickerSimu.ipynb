{
 "cells": [
  {
   "cell_type": "code",
   "execution_count": 1,
   "metadata": {},
   "outputs": [
    {
     "name": "stdout",
     "output_type": "stream",
     "text": [
      "PowerMonitor:\n",
      "NEW: M_ave ['20', 1524086559.549031] <class 'str'>\n",
      "PowerMonitor:\n",
      "NEW: M_nth ['30', 1524086604.2314749] <class 'str'>\n"
     ]
    }
   ],
   "source": [
    "from stickerGR import *\n",
    "GR.RunThreaded(video=False,updrounds=10)"
   ]
  },
  {
   "cell_type": "code",
   "execution_count": 4,
   "metadata": {},
   "outputs": [
    {
     "name": "stdout",
     "output_type": "stream",
     "text": [
      "PowerMonitor:\n",
      "M_ave ['1', 1524086909.3021078] <class 'str'>\n",
      "M_ave ['10000', 1524087048.700137] <class 'str'>\n",
      "PowerMonitor:\n",
      "M_ave ['10000', 1524087048.700137] <class 'str'>\n",
      "M_ave ['1', 1524087086.6601532] <class 'str'>\n",
      "['V_PV', 'E_SC', 'E_Batt', 'NF_Monitor', 'M_reset', 'M_ave', 'M_nth']\n",
      "['E_Batt', 'V_Batt', 'P_Batt', 'P_Tot_Out', 'E_SC']\n",
      "LongTermBattery:\n",
      "E_Batt [0.0, 1524087129.102745] <class 'float'>\n",
      "E_Batt [100000.0, 1524087147.30528] <class 'float'>\n",
      "NEW Text: ['M_reset', 1524087154.449867]\n",
      "['V_PV', 'E_SC', 'E_Batt', 'NF_Monitor', 'M_reset', 'M_ave', 'M_nth', 'Text']\n",
      "PowerMonitor:\n",
      "M_reset [False, 1524086540.082101] <class 'bool'>\n",
      "M_reset [True, 1524087175.9338062] <class 'bool'>\n",
      "['V_PV', 'E_SC', 'E_Batt', 'NF_Monitor', 'M_reset', 'M_ave', 'M_nth', 'Text']\n",
      "PowerMonitor:\n",
      "M_ave ['1', 1524087086.6601532] <class 'str'>\n",
      "M_ave ['1000', 1524087263.3258612] <class 'str'>\n",
      "['V_PV', 'E_SC', 'E_Batt', 'NF_Monitor', 'M_reset', 'M_ave', 'M_nth', 'Text']\n",
      "PowerMonitor:\n",
      "M_ave ['1000', 1524087263.3258612] <class 'str'>\n",
      "M_ave ['10000', 1524087282.120808] <class 'str'>\n",
      "['V_PV', 'E_SC', 'E_Batt', 'NF_Monitor', 'M_reset', 'M_ave', 'M_nth', 'Text']\n",
      "PowerMonitor:Text\n",
      "Removed: Text\n",
      "['V_PV', 'E_SC', 'E_Batt', 'NF_Monitor', 'M_reset', 'M_ave', 'M_nth']\n",
      "PowerMonitor:\n",
      "M_ave ['10000', 1524087282.120808] <class 'str'>\n",
      "M_ave ['1', 1524087487.199342] <class 'str'>\n",
      "['V_PV', 'E_SC', 'E_Batt', 'NF_Monitor', 'M_reset', 'M_ave', 'M_nth']\n",
      "PowerMonitor:\n",
      "M_ave ['1', 1524087487.199342] <class 'str'>\n",
      "M_ave ['10000', 1524087543.9276328] <class 'str'>\n"
     ]
    }
   ],
   "source": [
    "GR.RunThreaded(video=False, updrounds=2000)"
   ]
  },
  {
   "cell_type": "code",
   "execution_count": 6,
   "metadata": {
    "scrolled": true
   },
   "outputs": [
    {
     "name": "stdout",
     "output_type": "stream",
     "text": [
      "{'V_PV': [2.8605948531035015, 1524087559.429325], 'E_SC': [44.452391135582346, 1524087559.4293299], 'E_Batt': [15245.200000152432, 1524087559.429327], 'NF_Monitor': <nodefun.Monitor object at 0x108d77fd0>, 'M_reset': [False, 1524087175.988082], 'M_ave': ['10000', 1524087543.9276328], 'M_nth': ['1000', 1524086981.8426082]}\n"
     ]
    },
    {
     "data": {
      "image/png": "[encoded data removed]",
      "text/plain": [
       "<matplotlib.figure.Figure at 0x13e26cfd0>"
      ]
     },
     "metadata": {},
     "output_type": "display_data"
    }
   ],
   "source": [
    "\n",
    "import pylab as pl\n",
    "pl.plot(GR.nodes[6].cargo[\"Args\"][\"NF_Monitor\"].MonitorData)\n",
    "\n",
    "print(GR.nodes[6].cargo[\"Args\"])\n",
    "pl.show()"
   ]
  },
  {
   "cell_type": "code",
   "execution_count": null,
   "metadata": {},
   "outputs": [],
   "source": [
    "a=np.array([1.1,2.2,3.3])\n",
    "min(a)"
   ]
  },
  {
   "cell_type": "code",
   "execution_count": null,
   "metadata": {},
   "outputs": [],
   "source": [
    "Recolor(GR,colorscheme=\"BWColor\",color=(255,255,0),balance=.2)"
   ]
  },
  {
   "cell_type": "code",
   "execution_count": null,
   "metadata": {},
   "outputs": [],
   "source": [
    "colorBranches(GR,order=3, sat = 0.1, inv=True)"
   ]
  },
  {
   "cell_type": "code",
   "execution_count": null,
   "metadata": {},
   "outputs": [],
   "source": [
    "GR.RunThreaded(video=False)"
   ]
  },
  {
   "cell_type": "code",
   "execution_count": null,
   "metadata": {},
   "outputs": [],
   "source": [
    "cv2.EVENT_FLAG_CTRLKEY"
   ]
  },
  {
   "cell_type": "code",
   "execution_count": null,
   "metadata": {},
   "outputs": [],
   "source": [
    "a=np.array((0,2,0))\n",
    "mx=np.argmax(a)\n",
    "mn=np.argmin(a)\n",
    "b=[1,1,1]\n",
    "b[mx]=0\n",
    "b[mn]=0\n",
    "md=np.argmax(b)\n",
    "print(mn,md,mx)"
   ]
  },
  {
   "cell_type": "code",
   "execution_count": null,
   "metadata": {},
   "outputs": [],
   "source": [
    "a=np.ones(5)\n",
    "b=np.ones(6)\n",
    "np.convolve(a,b)"
   ]
  },
  {
   "cell_type": "code",
   "execution_count": null,
   "metadata": {},
   "outputs": [],
   "source": [
    "180.*24*3600"
   ]
  },
  {
   "cell_type": "code",
   "execution_count": null,
   "metadata": {},
   "outputs": [],
   "source": [
    "GR.controlpanelflags"
   ]
  },
  {
   "cell_type": "code",
   "execution_count": null,
   "metadata": {},
   "outputs": [],
   "source": [
    "del GR.controlpanelflags[\"labelmap\"]"
   ]
  },
  {
   "cell_type": "code",
   "execution_count": null,
   "metadata": {},
   "outputs": [],
   "source": [
    "GR.nodes[0].cargo"
   ]
  },
  {
   "cell_type": "code",
   "execution_count": null,
   "metadata": {},
   "outputs": [],
   "source": [
    "for n in GR.nodes:\n",
    "    print(n.cargo)"
   ]
  }
 ],
 "metadata": {
  "kernelspec": {
   "display_name": "Python 3",
   "language": "python",
   "name": "python3"
  },
  "language_info": {
   "codemirror_mode": {
    "name": "ipython",
    "version": 3
   },
   "file_extension": ".py",
   "mimetype": "text/x-python",
   "name": "python",
   "nbconvert_exporter": "python",
   "pygments_lexer": "ipython3",
   "version": "3.6.4"
  }
 },
 "nbformat": 4,
 "nbformat_minor": 2
}
