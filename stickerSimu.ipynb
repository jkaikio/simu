{
 "cells": [
  {
   "cell_type": "code",
   "execution_count": 1,
   "metadata": {
    "scrolled": false
   },
   "outputs": [],
   "source": [
    "from stickerGR import *\n",
    "from nodefun import *\n",
    "GR.RunThreaded(video=False,updrounds=10)"
   ]
  },
  {
   "cell_type": "code",
   "execution_count": null,
   "metadata": {},
   "outputs": [],
   "source": [
    "from graafi import *\n",
    "import numpy as np\n",
    "import cv2\n",
    "#GR.RunThreaded(video=False, updrounds=1400)"
   ]
  },
  {
   "cell_type": "code",
   "execution_count": 2,
   "metadata": {},
   "outputs": [],
   "source": [
    "GR.RunThreaded(video=False, updrounds=10)"
   ]
  },
  {
   "cell_type": "code",
   "execution_count": null,
   "metadata": {},
   "outputs": [],
   "source": [
    "for n in GR.nodes:\n",
    "    print(n.label,n.cargo)"
   ]
  },
  {
   "cell_type": "code",
   "execution_count": null,
   "metadata": {},
   "outputs": [],
   "source": [
    "#Q=CU\n",
    "#dQ = I dt = CdU\n",
    "#E=1/2 C U*2\n",
    "#dE = P dt = UI dt = E_u-E_i = 1/2 C(U_u*U_u - U_i*U_i)\n",
    "#U_u = np.sqrt(2/C * (E_u -E_i) + U_i*U_i)\n",
    "#    = np.sqrt(2/C P dt + U_i*U_i)\n",
    "#dU = U_u-U_i = np.sqrt(2/C * (E_u -E_i) + U_i*U_i) -U_i"
   ]
  },
  {
   "cell_type": "code",
   "execution_count": null,
   "metadata": {
    "scrolled": true
   },
   "outputs": [],
   "source": [
    "import pylab as pl\n",
    "import numpy as np\n",
    "\n",
    "n_sc=3\n",
    "C1=0.3\n",
    "C = C1/n_sc # 1/C = 1/C1 + 1/C1 + 1/C1 +...\n",
    "Uc=0.001#1.2*n_sc\n",
    "P=+0.003\n",
    "dt = 60\n",
    "dE = P * dt\n",
    "\n",
    "\n",
    "\n",
    "t=[0]\n",
    "U = [Uc]\n",
    "E = [C*0.5*Uc*Uc]\n",
    "I = [P / Uc]\n",
    "I_vuo=[0] #vuoto\n",
    "\n",
    "done1=False\n",
    "done2=False\n",
    "while True:\n",
    "    if -1*dE > E[-1]:\n",
    "        break\n",
    "    if t[-1] >60:\n",
    "        break\n",
    "    #if U[-1]>n_sc*1.2 and done1== False:\n",
    "    #    done1=True\n",
    "    #    P=0\n",
    "    #    dE = P * dt\n",
    "    if t[-1]>25 and done2== False:\n",
    "        done2=True\n",
    "        P=-.000004\n",
    "        dE = P * dt\n",
    "    vuoto = np.power(10,(Uc/n_sc - 1.06)/0.14-7) * Uc/n_sc * dt \n",
    "    I_vuo.append(vuoto/Uc/dt*n_sc)\n",
    "    U1 = np.sqrt(2 / C1 * (dE/n_sc - vuoto) + Uc/n_sc * Uc/n_sc)\n",
    "    Uc = U1*n_sc\n",
    "    U.append(Uc)\n",
    "    E.append(C1*0.5*U1*U1*n_sc)\n",
    "    I.append(P/n_sc / U1)\n",
    "    t.append(t[-1]+dt/3600/24)\n",
    "\n",
    "I_vuo[0]=I_vuo[1]\n",
    "\n",
    "Um =[1.20,1.18,1.165,1.09,1.06,1.040,1.00,0.95,0.92,0.895]\n",
    "tm =[0.00,0.10,0.200,0.95,1.85,2.800,5.00,12.0,21.0,29.00]\n",
    "vUm=[1.10,1.08,1.050,1.03,1.00,0.985,0.95,0.925,0.9,0.880]\n",
    "I_vm=[np.power(10,(v-1.2)/0.1-5)  for v in vUm]\n",
    "\n",
    "I_vuom=[]\n",
    "for u in Um:\n",
    "    vuoto = np.power(10,(u - 1.06)/0.14-7) \n",
    "    I_vuom.append(vuoto)\n",
    "I_vuom[0]=I_vuom[1]\n",
    "\n",
    "#\n",
    "#pl.plot(t,U)\n",
    "#pl.plot(tm,Um,\"*\")\n",
    "#pl.plot(t[:-1],I[:-1])\n",
    "\n",
    "#pl.semilogy(t,I_vuo)\n",
    "#pl.semilogy(tm,I_vuom,\"*-\")\n",
    "#pl.semilogy(tm,I_vm,\"+\")\n",
    "#pl.grid()\n",
    "#pl.show()\n",
    "\n",
    "pl.plot(t,E)\n",
    "pl.plot(t,U)\n",
    "#pl.plot(tm,Um,\"*\")\n",
    "pl.grid()\n",
    "pl.show()\n"
   ]
  },
  {
   "cell_type": "code",
   "execution_count": null,
   "metadata": {},
   "outputs": [],
   "source": [
    "U[-1]"
   ]
  },
  {
   "cell_type": "code",
   "execution_count": null,
   "metadata": {},
   "outputs": [],
   "source": [
    "    \n",
    "    n_sc = 3\n",
    "    C1 = 0.3 #TUT /NA supercap\n",
    "    \n",
    "    V_SC1= V_SC/n_sc\n",
    "    vuoto = np.power(10,(V_SC1 - 1.06)/0.14-7) * V_SC* dt #TUT /NA supercap\n",
    "    \n",
    "    ######################\n",
    "    #  E=1/2 C U*2\n",
    "    #  dE = P dt = UI dt = E_u-E_i = 1/2 C(U_u*U_u - U_i*U_i)\n",
    "    #  U_u = np.sqrt(2/C * (E_u -E_i) + U_i*U_i)\n",
    "    ######################\n",
    "\n",
    "    dE = (P_SC_In - vuoto - P_SC_Out) * dt \n",
    "\n",
    "    if -1 * dE < E_SC:\n",
    "        V_SC1 = np.sqrt(2 / C1 * dE/ n_sc + V_SC1 * V_SC1)\n",
    "    else: \n",
    "        V_SC1 = 0\n",
    "    \n",
    "    E_SC +=  dE\n",
    "    #E_SC = min(E_SC,1000)\n",
    "    E_SC = max(E_SC,0)\n",
    "    V_SC = max(V_SC1 * n_sc,0)\n",
    "    \n",
    "    \n",
    "    \n",
    "           self.P={\"off\":0.0,\"shutdown\":0.000005,\"deepsleep\":0.000003,\"wakingfromdeepsleep\":0.000010,\\\n",
    "                \"sleep\":0.000007,\"wakingfromsleep\":0.00001,\"energysaving\":0.00001,\"booting\":0.00001,\"ON\":0.00002} \n",
    "\n"
   ]
  }
 ],
 "metadata": {
  "kernelspec": {
   "display_name": "Python 3",
   "language": "python",
   "name": "python3"
  },
  "language_info": {
   "codemirror_mode": {
    "name": "ipython",
    "version": 3
   },
   "file_extension": ".py",
   "mimetype": "text/x-python",
   "name": "python",
   "nbconvert_exporter": "python",
   "pygments_lexer": "ipython3",
   "version": "3.6.4"
  }
 },
 "nbformat": 4,
 "nbformat_minor": 2
}
