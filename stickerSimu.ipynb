{
 "cells": [
  {
   "cell_type": "code",
   "execution_count": 1,
   "metadata": {
    "scrolled": true
   },
   "outputs": [
    {
     "name": "stdout",
     "output_type": "stream",
     "text": [
      "Graafi:new\n",
      ":\n",
      "NEW: Lightness ['0', 1525339323.9337714] <class 'str'>\n",
      "Graafi:update\n",
      "['Lightness']\n",
      ": function:NF_Monitor\n",
      "Environment:\n",
      "NEW: $Time ['8000000', 1525339385.930005] <class 'str'>\n",
      ":\n",
      "NEW: $Reso ['20', 1525339407.6790051] <class 'str'>\n",
      "PowerMonitor:\n",
      "NEW: $Reso ['20', 1525339511.233505] <class 'str'>\n",
      ": label:LightMonitor\n",
      "Graafi:1000\n",
      "['Lightness', '$NF_Environment', '$Indoors', '$Time']\n",
      "Environment:\n",
      "$Indoors [True, 1525339696.7631948] <class 'bool'>\n",
      "$Indoors [False, 1525339701.7081459] <class 'bool'>\n",
      "['Lightness', '$NF_Environment', '$Indoors', '$Time']\n",
      "Environment:\n",
      "$Indoors [False, 1525339773.988426] <class 'bool'>\n",
      "$Indoors [True, 1525339777.8978872] <class 'bool'>\n",
      "ending upd\n"
     ]
    }
   ],
   "source": [
    "from stickerGR import *\n",
    "from nodefun import *\n",
    "GR.RunThreaded(video=False,updrounds=10)"
   ]
  },
  {
   "cell_type": "code",
   "execution_count": null,
   "metadata": {},
   "outputs": [],
   "source": [
    "from graafi import *\n",
    "import numpy as np\n",
    "import cv2\n",
    "#GR.RunThreaded(video=False, updrounds=1400)"
   ]
  },
  {
   "cell_type": "code",
   "execution_count": null,
   "metadata": {},
   "outputs": [],
   "source": [
    "GR.RunThreaded(video=False, updrounds=1)"
   ]
  },
  {
   "cell_type": "code",
   "execution_count": null,
   "metadata": {},
   "outputs": [],
   "source": [
    "for e in GR.edges:\n",
    "    if GR.nodes[3]==e.node1 or GR.nodes[3]==e.node2:\n",
    "        print(e.label + \"removed\")\n",
    "        GR.edges.remove(e)"
   ]
  },
  {
   "cell_type": "code",
   "execution_count": 2,
   "metadata": {
    "scrolled": true
   },
   "outputs": [
    {
     "name": "stdout",
     "output_type": "stream",
     "text": [
      "0 {'Args': {'OnState_Main': [True, 1525339674.9534118]}, 'Function': <function NF_MainSwitch at 0x0000000006078620>, 'image': 'onoff2.png', 'node': <graafi.node object at 0x000000000554BA90>}\n",
      "1 {'Args': {'V_PV': [0.0, 1525339808.6795807], 'P_PV_Out': [-0.0, 1525339808.6795807], 'Lightness': [0, 1525339808.6795807]}, 'Function': <function NF_SolarCell at 0x0000000006078510>, 'image': None, 'node': <graafi.node object at 0x000000000554BB38>}\n",
      "2 {'Args': {'E_Batt': [533.0, 1525339808.6795807], 'V_Batt': [4.19999999999997, 1525339808.6795807], 'P_Batt': [0, 1525339808.6795807], '$E_Max_Batt': [533.0, 1525339223.5812364]}, 'Function': <function NF_Batt at 0x0000000006078730>, 'image': None, 'node': <graafi.node object at 0x0000000005568358>}\n",
      "3 {'Args': {'V_SC': [3.1919629560310225, 1525339808.6795807], 'E_SC': [0.5094313756337151, 1525339808.6795807], 'P_SC_Out': [2.2000000000000003e-05, 1525339808.6795807], 'P_SC_In': [0, 1525339808.6795807], 'P_SC_Out_Req': [0.0, 1525339223.5612354]}, 'Function': <function NF_Supercap at 0x00000000060786A8>, 'image': None, 'node': <graafi.node object at 0x000000000608AAC8>}\n",
      "4 {'Args': {'OnState_Main': [True, 1525339674.9534118], 'V_PV': [0.0, 1525339808.6795807], 'P_PV_Out': [-0.0, 1525339808.6795807], 'E_Batt': [533.0, 1525339808.6795807], 'V_Batt': [4.19999999999997, 1525339808.6795807], 'P_Batt': [0, 1525339808.6795807], 'V_SC': [3.1961612263856507, 1525339808.6795807], 'E_SC': [0.5107723292525512, 1525339808.6795807], 'P_SC_Out': [2.2000000000000003e-05, 1525339808.6795807], 'P_SC_Out_Req': [0.0, 1525339223.5612354], 'P_SC_In': [0, 1525339808.6795807], 'P_To_Reg': [2e-05, 1525339808.6795807], 'V_To_Reg': [3.3, 1525339808.6795807], 'P_Tot_Out': [2e-05, 1525339808.6795807], 'V_Tot_Out': [3.3, 1525339808.6795807], 'TotalEnergy': [533.5095723292525, 1525339808.6795807], 'PowerLowAlert': [False, 1525339808.6795807], 'PowerShuttingDown': [False, 1525339808.6795807]}, 'Function': <function NF_EHarvester at 0x00000000060787B8>, 'image': None, 'node': <graafi.node object at 0x000000000608AC50>}\n",
      "5 {'Args': {'P_To_Reg': [2e-05, 1525339808.6795807], 'V_To_Reg': [3.3, 1525339808.6795807], 'P_Tot_Out': [2e-05, 1525339808.6795807], 'V_Tot_Out': [3.3, 1525339808.6795807]}, 'Function': <function NF_VRegulator at 0x0000000006078840>, 'image': None, 'node': <graafi.node object at 0x000000000608ABE0>}\n",
      "6 {'Args': {'V_PV': [0.0, 1525339808.6795807], 'P_PV_Out': [-0.0, 1525339808.6795807], 'E_SC': [0.5107723292525512, 1525339808.6795807], 'V_SC': [3.1961612263856507, 1525339808.6795807], 'E_Batt': [533.0, 1525339808.6795807], 'V_Batt': [4.19999999999997, 1525339808.6795807], '$NF_Monitor': <nodefun.Monitor object at 0x000000000554B550>, '$M_reset': [False, 1525339223.5812364], '$Reso': ['20', 1525339511.233505]}, 'Function': <function NF_Monitor at 0x00000000074FDE18>, 'image': None, 'node': <graafi.node object at 0x000000000608AB00>}\n",
      "7 {'Args': {'TotalEnergy': [533.5109137984199, 1525339808.6795807], 'PowerLowAlert': [False, 1525339808.6795807], 'PowerShuttingDown': [False, 1525339808.6795807], 'P_Tot_Out': [2e-05, 1525339808.6795807], 'V_Tot_Out': [3.3, 1525339808.6795807], 'P_To_Reg': [2e-05, 1525339808.6795807], 'V_To_Reg': [3.3, 1525339808.6795807], 'P_Sensors': [0.0, 1525339223.5612354], 'Data_Sensors': [None, 1525339223.5612354], 'OnState_Sensors': [False, 1525339223.5612354], 'P_Indicator': [0.0, 1525339223.5612354], 'OnState_indicator': [False, 1525339223.5612354], 'OnState_Radio': [False, 1525339223.5612354], 'PositioningRadio': [None, 1525339223.5612354], 'RadioMessagePush': ['', 1525339223.5612354], 'RadioMessagePull': ['', 1525339223.5612354], 'NFC': [None, 1525339223.5612354], '$NF_Microcontroller': <nodefun.Microcontroller object at 0x0000000007728BE0>, '$MC_mode': ['ON', 1525339808.6795807], 'MC_mode': [8, 1525339808.6795807]}, 'Function': <function NF_Microcontroller at 0x00000000060788C8>, 'image': None, 'node': <graafi.node object at 0x000000000608AB70>}\n",
      "8 {'Args': {'P_Sensors': [0.0, 1525339223.5612354], 'Data_Sensors': [None, 1525339223.5612354], 'OnState_Sensors': [False, 1525339223.5612354]}, 'Function': None, 'image': None, 'node': <graafi.node object at 0x000000000608AC88>}\n",
      "9 {'Args': {'P_indicator': [0.0, 1525339223.5612354], 'OnState_indicator': [False, 1525339223.5612354]}, 'Function': None, 'image': None, 'node': <graafi.node object at 0x000000000608ACC0>}\n",
      "10 {'Args': {'P_Tot_Out': [2e-05, 1525339808.6795807], 'P_To_Reg': [2e-05, 1525339808.6795807], 'TotalEnergy': [533.5109137984199, 1525339808.6795807], '$NF_Monitor': <nodefun.Monitor object at 0x0000000007728C18>, '$M_reset': [False, 1525339223.5812364]}, 'Function': <function NF_Monitor at 0x00000000074FDE18>, 'image': None, 'node': <graafi.node object at 0x000000000608ACF8>}\n",
      "11 {'Args': {'OnState_Radio': [False, 1525339223.5612354], 'RadioMessagePush': ['', 1525339223.5612354], 'RadioMessagePull': ['', 1525339223.5612354], 'P_Radio': [0.0, 1525339223.5612354], 'Message_To_Antenna': ['', 1525339223.5612354], 'Message_From_Antenna': ['', 1525339223.5612354]}, 'Function': None, 'image': None, 'node': <graafi.node object at 0x00000000074F3A90>}\n",
      "12 {'Args': {'PositioningAntenna': [None, 1525339223.5612354]}, 'Function': None, 'image': None, 'node': <graafi.node object at 0x00000000074F3AC8>}\n",
      "13 {'Args': {'NFC': [None, 1525339223.5612354]}, 'Function': None, 'image': None, 'node': <graafi.node object at 0x00000000074F3B70>}\n",
      "14 {'Args': {'PositioningRadio': [None, 1525339223.5612354], 'PositioningAntenna': [None, 1525339223.5612354], 'P_Positioning_Radio': [None, 1525339223.5612354]}, 'Function': None, 'image': None, 'node': <graafi.node object at 0x00000000074F3B00>}\n",
      "15 {'Args': {'Message_To_Antenna': ['', 1525339223.5612354], 'Message_From_Antenna': ['', 1525339223.5612354], 'Message_To_Gateway': ['', 1525339223.5612354], 'Message_From_Gateway': ['', 1525339223.5612354]}, 'Function': None, 'image': None, 'node': <graafi.node object at 0x00000000074F3B38>}\n",
      "16 {'Args': {'Message_To_Gateway': ['', 1525339223.5612354], 'Message_From_Gateway': ['', 1525339223.5612354]}, 'Function': None, 'image': None, 'node': <graafi.node object at 0x00000000074F3C18>}\n",
      "17 {'Args': {'Message_To_Gateway': ['', 1525339223.5612354], 'Message_From_Gateway': ['', 1525339223.5612354], 'ServiceRequest_From_Gateway': ['', 1525339223.5612354], 'Service_To_Gateway': ['', 1525339223.5612354]}, 'Function': None, 'image': None, 'node': <graafi.node object at 0x00000000074F3C50>}\n",
      "18 {'Args': {'ServiceRequest_From_Gateway': ['', 1525339223.5612354], 'Service_To_Gateway': ['', 1525339223.5612354]}, 'Function': None, 'image': None, 'node': <graafi.node object at 0x00000000074F3C88>}\n",
      "19 {'Args': {'Lightness': [0, 1525339808.6795807], '$NF_Environment': <nodefun.Environment object at 0x0000000007728C50>, '$Indoors': [True, 1525339808.6795807], '$Time': [17806100.0, 1525339808.6795807]}, 'Function': <function NF_Environment at 0x00000000074FDEA0>, 'image': None, 'node': <graafi.node object at 0x00000000074F3CC0>}\n",
      "20 {'node': <graafi.node object at 0x0000000007728CF8>, 'Args': {'Lightness': [0, 1525339808.6795807], '$NF_Monitor': <nodefun.Monitor object at 0x000000000549B898>, '$M_reset': [False, 1525339345.800013], '$Reso': ['20', 1525339407.6790051]}, 'Function': <function NF_Monitor at 0x00000000074FDE18>}\n"
     ]
    }
   ],
   "source": [
    "for i,n in enumerate(GR.nodes):\n",
    "    print(i,n.cargo)"
   ]
  },
  {
   "cell_type": "code",
   "execution_count": null,
   "metadata": {},
   "outputs": [],
   "source": [
    "import pylab as pl\n",
    "GR.nodes[20].cargo[\"Args\"][\"$NF_Monitor\"].MonitorData\n"
   ]
  },
  {
   "cell_type": "code",
   "execution_count": null,
   "metadata": {},
   "outputs": [],
   "source": [
    "#Q=CU\n",
    "#dQ = I dt = CdU\n",
    "#E=1/2 C U*2\n",
    "#dE = P dt = UI dt = E_u-E_i = 1/2 C(U_u*U_u - U_i*U_i)\n",
    "#U_u = np.sqrt(2/C * (E_u -E_i) + U_i*U_i)\n",
    "#    = np.sqrt(2/C P dt + U_i*U_i)\n",
    "#dU = U_u-U_i = np.sqrt(2/C * (E_u -E_i) + U_i*U_i) -U_i"
   ]
  },
  {
   "cell_type": "code",
   "execution_count": null,
   "metadata": {
    "scrolled": true
   },
   "outputs": [],
   "source": [
    "import pylab as pl\n",
    "import numpy as np\n",
    "\n",
    "n_sc=1\n",
    "C1=0.3\n",
    "C = C1/n_sc # 1/C = 1/C1 + 1/C1 + 1/C1 +...\n",
    "Uc=1.2*n_sc\n",
    "P=0#+0.000003\n",
    "dt = 60\n",
    "dE = P * dt\n",
    "\n",
    "\n",
    "\n",
    "t=[0]\n",
    "U = [Uc]\n",
    "E = [C*0.5*Uc*Uc]\n",
    "I = [P / Uc]\n",
    "I_vuo=[0] #vuoto\n",
    "\n",
    "done1=False\n",
    "done2=False\n",
    "while True:\n",
    "    if -1*dE > E[-1]:\n",
    "        break\n",
    "    if t[-1] >60:\n",
    "        break\n",
    "    #if U[-1]>n_sc*1 and done1== False:\n",
    "    #    done1=True\n",
    "    #    P=0\n",
    "    #    dE = P * dt\n",
    "    #if t[-1]>25 and done2== False:\n",
    "    #    done2=True\n",
    "    #    P=-.00001\n",
    "    #    dE = P * dt\n",
    "    vuoto = np.power(10,(Uc/n_sc - 1.06)/0.14-7) * Uc/n_sc * dt \n",
    "    I_vuo.append(vuoto/Uc/dt*n_sc)\n",
    "    U1 = np.sqrt(2 / C1 * (dE/n_sc - vuoto) + Uc/n_sc * Uc/n_sc)\n",
    "    Uc = U1*n_sc\n",
    "    U.append(Uc)\n",
    "    E.append(C1*0.5*U1*U1*n_sc)\n",
    "    I.append(P/n_sc / U1)\n",
    "    t.append(t[-1]+dt/3600/24)\n",
    "\n",
    "I_vuo[0]=I_vuo[1]\n",
    "\n",
    "Um =[1.20,1.18,1.165,1.09,1.06,1.040,1.00,0.95,0.92,0.895]\n",
    "tm =[0.00,0.10,0.200,0.95,1.85,2.800,5.00,12.0,21.0,29.00]\n",
    "vUm=[1.10,1.08,1.050,1.03,1.00,0.985,0.95,0.925,0.9,0.880]\n",
    "I_vm=[np.power(10,(v-1.2)/0.1-5)  for v in vUm]\n",
    "\n",
    "I_vuom=[]\n",
    "for u in Um:\n",
    "    vuoto = np.power(10,(u - 1.06)/0.14-7) \n",
    "    I_vuom.append(vuoto)\n",
    "I_vuom[0]=I_vuom[1]\n",
    "\n",
    "#\n",
    "#pl.plot(t,U)\n",
    "#pl.plot(tm,Um,\"*\")\n",
    "#pl.plot(t[:-1],I[:-1])\n",
    "\n",
    "pl.semilogy(t,I_vuo)\n",
    "pl.semilogy(tm,I_vuom,\"*-\")\n",
    "pl.semilogy(tm,I_vm,\"+\")\n",
    "pl.grid()\n",
    "pl.show()\n",
    "\n",
    "#pl.plot(t,E)\n",
    "pl.plot(t,U)\n",
    "pl.plot(tm,Um,\"*\")\n",
    "pl.grid()\n",
    "pl.show()\n"
   ]
  },
  {
   "cell_type": "code",
   "execution_count": null,
   "metadata": {},
   "outputs": [],
   "source": [
    "print([5,60*5,3600*2,3600*24*2,7*24*3600*3,30*24*3600*3,365*24*3600*2])\n",
    "print([1,60,3600,3600*24,7*24*3600,30*24*3600,365*24*3600])"
   ]
  },
  {
   "cell_type": "code",
   "execution_count": null,
   "metadata": {},
   "outputs": [],
   "source": [
    "    \n",
    "    n_sc = 3\n",
    "    C1 = 0.3 #TUT /NA supercap\n",
    "    \n",
    "    V_SC1= V_SC/n_sc\n",
    "    vuoto = np.power(10,(V_SC1 - 1.06)/0.14-7) * V_SC* dt #TUT /NA supercap\n",
    "    \n",
    "    ######################\n",
    "    #  E=1/2 C U*2\n",
    "    #  dE = P dt = UI dt = E_u-E_i = 1/2 C(U_u*U_u - U_i*U_i)\n",
    "    #  U_u = np.sqrt(2/C * (E_u -E_i) + U_i*U_i)\n",
    "    ######################\n",
    "\n",
    "    dE = (P_SC_In - vuoto - P_SC_Out) * dt \n",
    "\n",
    "    if -1 * dE < E_SC:\n",
    "        V_SC1 = np.sqrt(2 / C1 * dE/ n_sc + V_SC1 * V_SC1)\n",
    "    else: \n",
    "        V_SC1 = 0\n",
    "    \n",
    "    E_SC +=  dE\n",
    "    #E_SC = min(E_SC,1000)\n",
    "    E_SC = max(E_SC,0)\n",
    "    V_SC = max(V_SC1 * n_sc,0)\n",
    "    \n",
    "    \n",
    "    \n",
    "           self.P={\"off\":0.0,\"shutdown\":0.000005,\"deepsleep\":0.000003,\"wakingfromdeepsleep\":0.000010,\\\n",
    "                \"sleep\":0.000007,\"wakingfromsleep\":0.00001,\"energysaving\":0.00001,\"booting\":0.00001,\"ON\":0.00002} \n",
    "\n"
   ]
  },
  {
   "cell_type": "code",
   "execution_count": null,
   "metadata": {},
   "outputs": [],
   "source": [
    "U1=5\n",
    "P=1\n",
    "I=P/U1\n",
    "U=3\n",
    "P2=(U1-U)*I\n",
    "P2"
   ]
  }
 ],
 "metadata": {
  "kernelspec": {
   "display_name": "Python 3",
   "language": "python",
   "name": "python3"
  },
  "language_info": {
   "codemirror_mode": {
    "name": "ipython",
    "version": 3
   },
   "file_extension": ".py",
   "mimetype": "text/x-python",
   "name": "python",
   "nbconvert_exporter": "python",
   "pygments_lexer": "ipython3",
   "version": "3.6.4"
  }
 },
 "nbformat": 4,
 "nbformat_minor": 2
}
