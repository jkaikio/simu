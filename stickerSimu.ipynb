{
 "cells": [
  {
   "cell_type": "code",
   "execution_count": 1,
   "metadata": {
    "scrolled": true
   },
   "outputs": [
    {
     "name": "stdout",
     "output_type": "stream",
     "text": [
      "PowerMonitor:\n",
      "NEW: M_nth ['200', 1524424840.5619571] <class 'str'>\n",
      "PowerMonitor:\n",
      "M_nth ['200', 1524424840.5619571] <class 'str'>\n",
      "M_nth ['20', 1524424855.558073] <class 'str'>\n",
      "['TotalEnergy', 'PowerLowAlert', 'PowerShuttingDown', 'P_Tot_Out', 'V_Tot_Out', 'P_To_Reg', 'V_To_Reg', 'P_Sensors', 'Data_Sensors', 'OnState_Sensors', 'P_Indicator', 'OnState_indicator', 'OnState_Radio', 'PositioningRadio', 'RadioMessagePush', 'RadioMessagePull', 'NFC', 'NF_Microcontroller', 'MC_mode']\n",
      "['E_Batt', 'V_Batt', 'P_Batt']\n",
      "LongTermBattery:\n",
      "E_Batt [4909.213618465183, 1524425131.6418061] <class 'float'>\n",
      "E_Batt [10000.0, 1524425140.8898299] <class 'float'>\n",
      "['P_Tot_Out', 'P_To_Reg', 'TotalEnergy', 'NF_Monitor', 'M_reset']\n",
      "['P_Tot_Out', 'P_To_Reg', 'TotalEnergy', 'NF_Monitor', 'M_reset']\n",
      "LogicPMonitor:\n",
      "NEW: M_nth ['60', 1524425200.311349] <class 'str'>\n"
     ]
    }
   ],
   "source": [
    "from stickerGR import *\n",
    "GR.RunThreaded(video=False,updrounds=10)"
   ]
  },
  {
   "cell_type": "code",
   "execution_count": null,
   "metadata": {},
   "outputs": [],
   "source": [
    "GR.RunThreaded(video=False, updrounds=1400)"
   ]
  },
  {
   "cell_type": "code",
   "execution_count": null,
   "metadata": {},
   "outputs": [],
   "source": [
    "GR.RunThreaded(video=False, updrounds=0)"
   ]
  },
  {
   "cell_type": "code",
   "execution_count": null,
   "metadata": {},
   "outputs": [],
   "source": [
    "import pylab as pl\n",
    "pl.plot(GR.nodes[10].cargo[\"Args\"][\"NF_Monitor\"].MonitorData[:][1])\n",
    "\n",
    "print(GR.nodes[6].cargo[\"Args\"])\n",
    "pl.show()"
   ]
  },
  {
   "cell_type": "code",
   "execution_count": null,
   "metadata": {},
   "outputs": [],
   "source": [
    "img=cv2.imread(\"onoff2.png\")\n",
    "bgcolor=(230,223,123)\n",
    "im=np.ones((428,428,3),dtype=np.uint8)\n",
    "im[:,:,0]=bgcolor[0]\n",
    "im[:,:,1]=bgcolor[1]\n",
    "im[:,:,2]=bgcolor[2]\n",
    "imB=im[107-22:107-22+236,107:107+214,0]\n",
    "imG=im[107-22:107-22+236,107:107+214,1]\n",
    "imR=im[107-22:107-22+236,107:107+214,2]\n",
    "B=img[:,:,1].copy()\n",
    "imB[B<200]=0\n",
    "imG[B<200]=234\n",
    "imR[B<200]=77\n",
    "im[107-22:107-22+236,107:107+214, 0]=imB.copy()\n",
    "im[107-22:107-22+236,107:107+214, 1]=imG.copy()\n",
    "im[107-22:107-22+236,107:107+214, 2]=imR.copy()\n",
    " \n",
    "cv2.imshow(\"Graafi\",im)\n",
    "\n",
    "inp=cv2.waitKeyEx(10000)\n",
    "print(inp)\n",
    "cv2.destroyAllWindows()\n",
    "cv2.waitKey(1)"
   ]
  },
  {
   "cell_type": "code",
   "execution_count": null,
   "metadata": {},
   "outputs": [],
   "source": [
    "Recolor(GR,colorscheme=\"BWColor\",color=(255,255,0),balance=.2)"
   ]
  },
  {
   "cell_type": "code",
   "execution_count": null,
   "metadata": {},
   "outputs": [],
   "source": [
    "colorBranches(GR,order=3, sat = 0.1, inv=True)"
   ]
  },
  {
   "cell_type": "code",
   "execution_count": null,
   "metadata": {},
   "outputs": [],
   "source": [
    "import pylab as pl\n",
    "md=np.array(GR.nodes[10].cargo[\"Args\"][\"NF_Monitor\"].MonitorData)\n",
    "\n",
    "pl.plot(md[180000:200000,1])\n",
    "\n",
    "print(GR.nodes[6].cargo[\"Args\"])\n",
    "pl.show()"
   ]
  },
  {
   "cell_type": "code",
   "execution_count": null,
   "metadata": {},
   "outputs": [],
   "source": [
    "sum(i == 0 for i in md[:,1])/len(md[:,1])"
   ]
  },
  {
   "cell_type": "code",
   "execution_count": null,
   "metadata": {},
   "outputs": [],
   "source": [
    "np.array(GR.nodes[0].color,dtype=np.uint8)-128"
   ]
  },
  {
   "cell_type": "code",
   "execution_count": null,
   "metadata": {
    "scrolled": true
   },
   "outputs": [],
   "source": [
    "import sys\n",
    "#while True:\n",
    "inp = sys.stdin.read(1)\n",
    "#if inp!=\"\":\n",
    "print(inp)\n",
    "#if inp==\"s\":\n",
    "#    break"
   ]
  },
  {
   "cell_type": "code",
   "execution_count": null,
   "metadata": {},
   "outputs": [],
   "source": [
    "a=np.array((0,2,0))\n",
    "mx=np.argmax(a)\n",
    "mn=np.argmin(a)\n",
    "b=[1,1,1]\n",
    "b[mx]=0\n",
    "b[mn]=0\n",
    "md=np.argmax(b)\n",
    "print(mn,md,mx)"
   ]
  },
  {
   "cell_type": "code",
   "execution_count": null,
   "metadata": {},
   "outputs": [],
   "source": [
    "a=np.ones(5)\n",
    "b=np.ones(6)\n",
    "np.convolve(a,b)"
   ]
  },
  {
   "cell_type": "code",
   "execution_count": null,
   "metadata": {},
   "outputs": [],
   "source": [
    "180.*24*3600"
   ]
  },
  {
   "cell_type": "code",
   "execution_count": null,
   "metadata": {},
   "outputs": [],
   "source": [
    "GR.controlpanelflags"
   ]
  },
  {
   "cell_type": "code",
   "execution_count": null,
   "metadata": {},
   "outputs": [],
   "source": [
    "del GR.controlpanelflags[\"labelmap\"]"
   ]
  },
  {
   "cell_type": "code",
   "execution_count": null,
   "metadata": {},
   "outputs": [],
   "source": [
    "readFloatArg(\"Lightness\",GR.nodes[2].cargo[\"Args\"])"
   ]
  },
  {
   "cell_type": "code",
   "execution_count": null,
   "metadata": {},
   "outputs": [],
   "source": [
    "for n in GR.nodes:\n",
    "    print(n.label,n.cargo[\"Args\"])"
   ]
  },
  {
   "cell_type": "code",
   "execution_count": null,
   "metadata": {},
   "outputs": [],
   "source": [
    "import pylab as pl\n",
    "import numpy as np\n",
    "from graafi import sigmoid\n",
    "deg=np.arange(-10,30)\n",
    "sd=sigmoid((deg-7)/2)\n",
    "pl.plot(deg,sd)\n",
    "pl.grid()\n",
    "pl.show()"
   ]
  },
  {
   "cell_type": "code",
   "execution_count": null,
   "metadata": {},
   "outputs": [],
   "source": [
    "np.pi"
   ]
  },
  {
   "cell_type": "code",
   "execution_count": null,
   "metadata": {},
   "outputs": [],
   "source": [
    "GR.nodes[6].cargo[\"Args\"][\"NF_Monitor\"].MonitorData"
   ]
  }
 ],
 "metadata": {
  "kernelspec": {
   "display_name": "Python 3",
   "language": "python",
   "name": "python3"
  },
  "language_info": {
   "codemirror_mode": {
    "name": "ipython",
    "version": 3
   },
   "file_extension": ".py",
   "mimetype": "text/x-python",
   "name": "python",
   "nbconvert_exporter": "python",
   "pygments_lexer": "ipython3",
   "version": "3.6.4"
  }
 },
 "nbformat": 4,
 "nbformat_minor": 2
}
