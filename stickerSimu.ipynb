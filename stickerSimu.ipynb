{
 "cells": [
  {
   "cell_type": "code",
   "execution_count": 1,
   "metadata": {
    "scrolled": true
   },
   "outputs": [
    {
     "name": "stdout",
     "output_type": "stream",
     "text": [
      "Environment:\n",
      "NEW: Time ['8000000', 1524175964.8436859] <class 'str'>\n",
      "PowerMonitor:\n",
      "NEW: M_nth ['30', 1524176037.275198] <class 'str'>\n"
     ]
    }
   ],
   "source": [
    "from stickerGR import *\n",
    "GR.RunThreaded(video=False,updrounds=10)"
   ]
  },
  {
   "cell_type": "code",
   "execution_count": 3,
   "metadata": {},
   "outputs": [
    {
     "name": "stderr",
     "output_type": "stream",
     "text": [
      "Exception in thread UpdateGR:\n",
      "Traceback (most recent call last):\n",
      "  File \"/Users/janneaikio/anaconda3/lib/python3.6/threading.py\", line 916, in _bootstrap_inner\n",
      "    self.run()\n",
      "  File \"/Users/janneaikio/Koodaus/python/simu/graafi.py\", line 1149, in run\n",
      "    self.GR.UpdateAll(draw=True)\n",
      "  File \"/Users/janneaikio/Koodaus/python/simu/graafi.py\", line 933, in UpdateAll\n",
      "    n.update(draw=draw)\n",
      "  File \"/Users/janneaikio/Koodaus/python/simu/graafi.py\", line 138, in update\n",
      "    self.runCargoFun(self.cargo[\"Function\"], self.cargo[\"Args\"],draw=draw)\n",
      "  File \"/Users/janneaikio/Koodaus/python/simu/graafi.py\", line 143, in runCargoFun\n",
      "    self.cargo[\"Args\"]= CargoFun((args), node = self,draw = draw)\n",
      "  File \"/Users/janneaikio/Koodaus/python/simu/nodefun.py\", line 37, in NF_Monitor\n",
      "    node.image = NFMonitor.Draw()\n",
      "  File \"/Users/janneaikio/Koodaus/python/simu/nodefun.py\", line 89, in Draw\n",
      "    data[:,i]=np.convolve(data[:,i],Vconv,mode=\"same\")\n",
      "ValueError: could not broadcast input array from shape (10000) into shape (1402)\n",
      "\n",
      "Exception in thread UpdateGR:\n",
      "Traceback (most recent call last):\n",
      "  File \"/Users/janneaikio/anaconda3/lib/python3.6/threading.py\", line 916, in _bootstrap_inner\n",
      "    self.run()\n",
      "  File \"/Users/janneaikio/Koodaus/python/simu/graafi.py\", line 1149, in run\n",
      "    self.GR.UpdateAll(draw=True)\n",
      "  File \"/Users/janneaikio/Koodaus/python/simu/graafi.py\", line 933, in UpdateAll\n",
      "    n.update(draw=draw)\n",
      "  File \"/Users/janneaikio/Koodaus/python/simu/graafi.py\", line 138, in update\n",
      "    self.runCargoFun(self.cargo[\"Function\"], self.cargo[\"Args\"],draw=draw)\n",
      "  File \"/Users/janneaikio/Koodaus/python/simu/graafi.py\", line 143, in runCargoFun\n",
      "    self.cargo[\"Args\"]= CargoFun((args), node = self,draw = draw)\n",
      "  File \"/Users/janneaikio/Koodaus/python/simu/nodefun.py\", line 37, in NF_Monitor\n",
      "    node.image = NFMonitor.Draw()\n",
      "  File \"/Users/janneaikio/Koodaus/python/simu/nodefun.py\", line 89, in Draw\n",
      "    data[:,i]=np.convolve(data[:,i],Vconv,mode=\"same\")\n",
      "ValueError: could not broadcast input array from shape (10000) into shape (2803)\n",
      "\n",
      "Exception in thread UpdateGR:\n",
      "Traceback (most recent call last):\n",
      "  File \"/Users/janneaikio/anaconda3/lib/python3.6/threading.py\", line 916, in _bootstrap_inner\n",
      "    self.run()\n",
      "  File \"/Users/janneaikio/Koodaus/python/simu/graafi.py\", line 1149, in run\n",
      "    self.GR.UpdateAll(draw=True)\n",
      "  File \"/Users/janneaikio/Koodaus/python/simu/graafi.py\", line 933, in UpdateAll\n",
      "    n.update(draw=draw)\n",
      "  File \"/Users/janneaikio/Koodaus/python/simu/graafi.py\", line 138, in update\n",
      "    self.runCargoFun(self.cargo[\"Function\"], self.cargo[\"Args\"],draw=draw)\n",
      "  File \"/Users/janneaikio/Koodaus/python/simu/graafi.py\", line 143, in runCargoFun\n",
      "    self.cargo[\"Args\"]= CargoFun((args), node = self,draw = draw)\n",
      "  File \"/Users/janneaikio/Koodaus/python/simu/nodefun.py\", line 37, in NF_Monitor\n",
      "    node.image = NFMonitor.Draw()\n",
      "  File \"/Users/janneaikio/Koodaus/python/simu/nodefun.py\", line 89, in Draw\n",
      "    data[:,i]=np.convolve(data[:,i],Vconv,mode=\"same\")\n",
      "ValueError: could not broadcast input array from shape (10000) into shape (4204)\n",
      "\n",
      "Exception in thread UpdateGR:\n",
      "Traceback (most recent call last):\n",
      "  File \"/Users/janneaikio/anaconda3/lib/python3.6/threading.py\", line 916, in _bootstrap_inner\n",
      "    self.run()\n",
      "  File \"/Users/janneaikio/Koodaus/python/simu/graafi.py\", line 1149, in run\n",
      "    self.GR.UpdateAll(draw=True)\n",
      "  File \"/Users/janneaikio/Koodaus/python/simu/graafi.py\", line 933, in UpdateAll\n",
      "    n.update(draw=draw)\n",
      "  File \"/Users/janneaikio/Koodaus/python/simu/graafi.py\", line 138, in update\n",
      "    self.runCargoFun(self.cargo[\"Function\"], self.cargo[\"Args\"],draw=draw)\n",
      "  File \"/Users/janneaikio/Koodaus/python/simu/graafi.py\", line 143, in runCargoFun\n",
      "    self.cargo[\"Args\"]= CargoFun((args), node = self,draw = draw)\n",
      "  File \"/Users/janneaikio/Koodaus/python/simu/nodefun.py\", line 37, in NF_Monitor\n",
      "    node.image = NFMonitor.Draw()\n",
      "  File \"/Users/janneaikio/Koodaus/python/simu/nodefun.py\", line 89, in Draw\n",
      "    data[:,i]=np.convolve(data[:,i],Vconv,mode=\"same\")\n",
      "ValueError: could not broadcast input array from shape (10000) into shape (5605)\n",
      "\n",
      "Exception in thread UpdateGR:\n",
      "Traceback (most recent call last):\n",
      "  File \"/Users/janneaikio/anaconda3/lib/python3.6/threading.py\", line 916, in _bootstrap_inner\n",
      "    self.run()\n",
      "  File \"/Users/janneaikio/Koodaus/python/simu/graafi.py\", line 1149, in run\n",
      "    self.GR.UpdateAll(draw=True)\n",
      "  File \"/Users/janneaikio/Koodaus/python/simu/graafi.py\", line 933, in UpdateAll\n",
      "    n.update(draw=draw)\n",
      "  File \"/Users/janneaikio/Koodaus/python/simu/graafi.py\", line 138, in update\n",
      "    self.runCargoFun(self.cargo[\"Function\"], self.cargo[\"Args\"],draw=draw)\n",
      "  File \"/Users/janneaikio/Koodaus/python/simu/graafi.py\", line 143, in runCargoFun\n",
      "    self.cargo[\"Args\"]= CargoFun((args), node = self,draw = draw)\n",
      "  File \"/Users/janneaikio/Koodaus/python/simu/nodefun.py\", line 37, in NF_Monitor\n",
      "    node.image = NFMonitor.Draw()\n",
      "  File \"/Users/janneaikio/Koodaus/python/simu/nodefun.py\", line 89, in Draw\n",
      "    data[:,i]=np.convolve(data[:,i],Vconv,mode=\"same\")\n",
      "ValueError: could not broadcast input array from shape (10000) into shape (7006)\n",
      "\n",
      "Exception in thread UpdateGR:\n",
      "Traceback (most recent call last):\n",
      "  File \"/Users/janneaikio/anaconda3/lib/python3.6/threading.py\", line 916, in _bootstrap_inner\n",
      "    self.run()\n",
      "  File \"/Users/janneaikio/Koodaus/python/simu/graafi.py\", line 1149, in run\n",
      "    self.GR.UpdateAll(draw=True)\n",
      "  File \"/Users/janneaikio/Koodaus/python/simu/graafi.py\", line 933, in UpdateAll\n",
      "    n.update(draw=draw)\n",
      "  File \"/Users/janneaikio/Koodaus/python/simu/graafi.py\", line 138, in update\n",
      "    self.runCargoFun(self.cargo[\"Function\"], self.cargo[\"Args\"],draw=draw)\n",
      "  File \"/Users/janneaikio/Koodaus/python/simu/graafi.py\", line 143, in runCargoFun\n",
      "    self.cargo[\"Args\"]= CargoFun((args), node = self,draw = draw)\n",
      "  File \"/Users/janneaikio/Koodaus/python/simu/nodefun.py\", line 37, in NF_Monitor\n",
      "    node.image = NFMonitor.Draw()\n",
      "  File \"/Users/janneaikio/Koodaus/python/simu/nodefun.py\", line 89, in Draw\n",
      "    data[:,i]=np.convolve(data[:,i],Vconv,mode=\"same\")\n",
      "ValueError: could not broadcast input array from shape (10000) into shape (8407)\n",
      "\n",
      "Exception in thread UpdateGR:\n",
      "Traceback (most recent call last):\n",
      "  File \"/Users/janneaikio/anaconda3/lib/python3.6/threading.py\", line 916, in _bootstrap_inner\n",
      "    self.run()\n",
      "  File \"/Users/janneaikio/Koodaus/python/simu/graafi.py\", line 1149, in run\n",
      "    self.GR.UpdateAll(draw=True)\n",
      "  File \"/Users/janneaikio/Koodaus/python/simu/graafi.py\", line 933, in UpdateAll\n",
      "    n.update(draw=draw)\n",
      "  File \"/Users/janneaikio/Koodaus/python/simu/graafi.py\", line 138, in update\n",
      "    self.runCargoFun(self.cargo[\"Function\"], self.cargo[\"Args\"],draw=draw)\n",
      "  File \"/Users/janneaikio/Koodaus/python/simu/graafi.py\", line 143, in runCargoFun\n",
      "    self.cargo[\"Args\"]= CargoFun((args), node = self,draw = draw)\n",
      "  File \"/Users/janneaikio/Koodaus/python/simu/nodefun.py\", line 37, in NF_Monitor\n",
      "    node.image = NFMonitor.Draw()\n",
      "  File \"/Users/janneaikio/Koodaus/python/simu/nodefun.py\", line 89, in Draw\n",
      "    data[:,i]=np.convolve(data[:,i],Vconv,mode=\"same\")\n",
      "ValueError: could not broadcast input array from shape (10000) into shape (9808)\n",
      "\n"
     ]
    },
    {
     "name": "stdout",
     "output_type": "stream",
     "text": [
      "LogicPMonitor:\n",
      "M_nth ['200', 1524176524.996345] <class 'str'>\n",
      "M_nth ['400', 1524176839.6282089] <class 'str'>\n",
      "PowerMonitor:\n",
      "M_nth ['200', 1524176475.357503] <class 'str'>\n",
      "M_nth ['400', 1524176851.914389] <class 'str'>\n",
      "LogicPMonitor:\n",
      "M_nth ['400', 1524176839.6282089] <class 'str'>\n",
      "M_nth ['1', 1524176973.855529] <class 'str'>\n",
      "LogicPMonitor:\n",
      "M_nth ['1', 1524176973.855529] <class 'str'>\n",
      "M_nth ['30', 1524177020.172673] <class 'str'>\n",
      "LogicPMonitor:\n",
      "M_ave ['10000', 1524176538.920994] <class 'str'>\n",
      "M_ave ['1', 1524177044.2936819] <class 'str'>\n",
      "['P_Tot_Out', 'P_To_Reg', 'TotalEnergy', 'NF_Monitor', 'M_reset', 'M_nth', 'M_ave']\n",
      "LogicPMonitor:\n",
      "M_nth ['30', 1524177020.172673] <class 'str'>\n",
      "M_nth ['5', 1524177152.704503] <class 'str'>\n",
      "PowerMonitor:\n",
      "M_nth ['400', 1524176851.914389] <class 'str'>\n",
      "M_nth ['800', 1524177209.5179589] <class 'str'>\n",
      "LogicPMonitor:\n",
      "M_nth ['5', 1524177152.704503] <class 'str'>\n",
      "M_nth ['800', 1524177233.240101] <class 'str'>\n",
      "LogicPMonitor:\n",
      "M_ave ['1', 1524177044.2936819] <class 'str'>\n",
      "M_ave ['10000', 1524177241.59096] <class 'str'>\n",
      "['P_Tot_Out', 'P_To_Reg', 'TotalEnergy', 'NF_Monitor', 'M_reset', 'M_nth', 'M_ave']\n",
      "LogicPMonitor:\n",
      "M_reset [False, 1524176556.766651] <class 'bool'>\n",
      "M_reset [True, 1524177297.94198] <class 'bool'>\n",
      "['V_PV', 'E_SC', 'E_Batt', 'NF_Monitor', 'M_reset', 'M_nth', 'M_ave']\n",
      "PowerMonitor:\n",
      "M_reset [False, 1524176556.7618759] <class 'bool'>\n",
      "M_reset [True, 1524177311.288588] <class 'bool'>\n",
      "['E_Batt', 'V_Batt', 'P_Batt']\n"
     ]
    },
    {
     "name": "stderr",
     "output_type": "stream",
     "text": [
      "Exception in thread UpdateGR:\n",
      "Traceback (most recent call last):\n",
      "  File \"/Users/janneaikio/anaconda3/lib/python3.6/threading.py\", line 916, in _bootstrap_inner\n",
      "    self.run()\n",
      "  File \"/Users/janneaikio/Koodaus/python/simu/graafi.py\", line 1149, in run\n",
      "    self.GR.UpdateAll(draw=True)\n",
      "  File \"/Users/janneaikio/Koodaus/python/simu/graafi.py\", line 933, in UpdateAll\n",
      "    n.update(draw=draw)\n",
      "  File \"/Users/janneaikio/Koodaus/python/simu/graafi.py\", line 138, in update\n",
      "    self.runCargoFun(self.cargo[\"Function\"], self.cargo[\"Args\"],draw=draw)\n",
      "  File \"/Users/janneaikio/Koodaus/python/simu/graafi.py\", line 143, in runCargoFun\n",
      "    self.cargo[\"Args\"]= CargoFun((args), node = self,draw = draw)\n",
      "  File \"/Users/janneaikio/Koodaus/python/simu/nodefun.py\", line 37, in NF_Monitor\n",
      "    node.image = NFMonitor.Draw()\n",
      "  File \"/Users/janneaikio/Koodaus/python/simu/nodefun.py\", line 89, in Draw\n",
      "    data[:,i]=np.convolve(data[:,i],Vconv,mode=\"same\")\n",
      "ValueError: could not broadcast input array from shape (10000) into shape (1401)\n",
      "\n",
      "Exception in thread UpdateGR:\n",
      "Traceback (most recent call last):\n",
      "  File \"/Users/janneaikio/anaconda3/lib/python3.6/threading.py\", line 916, in _bootstrap_inner\n",
      "    self.run()\n",
      "  File \"/Users/janneaikio/Koodaus/python/simu/graafi.py\", line 1149, in run\n",
      "    self.GR.UpdateAll(draw=True)\n",
      "  File \"/Users/janneaikio/Koodaus/python/simu/graafi.py\", line 933, in UpdateAll\n",
      "    n.update(draw=draw)\n",
      "  File \"/Users/janneaikio/Koodaus/python/simu/graafi.py\", line 138, in update\n",
      "    self.runCargoFun(self.cargo[\"Function\"], self.cargo[\"Args\"],draw=draw)\n",
      "  File \"/Users/janneaikio/Koodaus/python/simu/graafi.py\", line 143, in runCargoFun\n",
      "    self.cargo[\"Args\"]= CargoFun((args), node = self,draw = draw)\n",
      "  File \"/Users/janneaikio/Koodaus/python/simu/nodefun.py\", line 37, in NF_Monitor\n",
      "    node.image = NFMonitor.Draw()\n",
      "  File \"/Users/janneaikio/Koodaus/python/simu/nodefun.py\", line 89, in Draw\n",
      "    data[:,i]=np.convolve(data[:,i],Vconv,mode=\"same\")\n",
      "ValueError: could not broadcast input array from shape (10000) into shape (2802)\n",
      "\n",
      "Exception in thread UpdateGR:\n",
      "Traceback (most recent call last):\n",
      "  File \"/Users/janneaikio/anaconda3/lib/python3.6/threading.py\", line 916, in _bootstrap_inner\n",
      "    self.run()\n",
      "  File \"/Users/janneaikio/Koodaus/python/simu/graafi.py\", line 1149, in run\n",
      "    self.GR.UpdateAll(draw=True)\n",
      "  File \"/Users/janneaikio/Koodaus/python/simu/graafi.py\", line 933, in UpdateAll\n",
      "    n.update(draw=draw)\n",
      "  File \"/Users/janneaikio/Koodaus/python/simu/graafi.py\", line 138, in update\n",
      "    self.runCargoFun(self.cargo[\"Function\"], self.cargo[\"Args\"],draw=draw)\n",
      "  File \"/Users/janneaikio/Koodaus/python/simu/graafi.py\", line 143, in runCargoFun\n",
      "    self.cargo[\"Args\"]= CargoFun((args), node = self,draw = draw)\n",
      "  File \"/Users/janneaikio/Koodaus/python/simu/nodefun.py\", line 37, in NF_Monitor\n",
      "    node.image = NFMonitor.Draw()\n",
      "  File \"/Users/janneaikio/Koodaus/python/simu/nodefun.py\", line 89, in Draw\n",
      "    data[:,i]=np.convolve(data[:,i],Vconv,mode=\"same\")\n",
      "ValueError: could not broadcast input array from shape (10000) into shape (4203)\n",
      "\n",
      "Exception in thread UpdateGR:\n",
      "Traceback (most recent call last):\n",
      "  File \"/Users/janneaikio/anaconda3/lib/python3.6/threading.py\", line 916, in _bootstrap_inner\n",
      "    self.run()\n",
      "  File \"/Users/janneaikio/Koodaus/python/simu/graafi.py\", line 1149, in run\n",
      "    self.GR.UpdateAll(draw=True)\n",
      "  File \"/Users/janneaikio/Koodaus/python/simu/graafi.py\", line 933, in UpdateAll\n",
      "    n.update(draw=draw)\n",
      "  File \"/Users/janneaikio/Koodaus/python/simu/graafi.py\", line 138, in update\n",
      "    self.runCargoFun(self.cargo[\"Function\"], self.cargo[\"Args\"],draw=draw)\n",
      "  File \"/Users/janneaikio/Koodaus/python/simu/graafi.py\", line 143, in runCargoFun\n",
      "    self.cargo[\"Args\"]= CargoFun((args), node = self,draw = draw)\n",
      "  File \"/Users/janneaikio/Koodaus/python/simu/nodefun.py\", line 37, in NF_Monitor\n",
      "    node.image = NFMonitor.Draw()\n",
      "  File \"/Users/janneaikio/Koodaus/python/simu/nodefun.py\", line 89, in Draw\n",
      "    data[:,i]=np.convolve(data[:,i],Vconv,mode=\"same\")\n",
      "ValueError: could not broadcast input array from shape (10000) into shape (5604)\n",
      "\n",
      "Exception in thread UpdateGR:\n",
      "Traceback (most recent call last):\n",
      "  File \"/Users/janneaikio/anaconda3/lib/python3.6/threading.py\", line 916, in _bootstrap_inner\n",
      "    self.run()\n",
      "  File \"/Users/janneaikio/Koodaus/python/simu/graafi.py\", line 1149, in run\n",
      "    self.GR.UpdateAll(draw=True)\n",
      "  File \"/Users/janneaikio/Koodaus/python/simu/graafi.py\", line 933, in UpdateAll\n",
      "    n.update(draw=draw)\n",
      "  File \"/Users/janneaikio/Koodaus/python/simu/graafi.py\", line 138, in update\n",
      "    self.runCargoFun(self.cargo[\"Function\"], self.cargo[\"Args\"],draw=draw)\n",
      "  File \"/Users/janneaikio/Koodaus/python/simu/graafi.py\", line 143, in runCargoFun\n",
      "    self.cargo[\"Args\"]= CargoFun((args), node = self,draw = draw)\n",
      "  File \"/Users/janneaikio/Koodaus/python/simu/nodefun.py\", line 37, in NF_Monitor\n",
      "    node.image = NFMonitor.Draw()\n",
      "  File \"/Users/janneaikio/Koodaus/python/simu/nodefun.py\", line 89, in Draw\n",
      "    data[:,i]=np.convolve(data[:,i],Vconv,mode=\"same\")\n",
      "ValueError: could not broadcast input array from shape (10000) into shape (7005)\n",
      "\n",
      "Exception in thread UpdateGR:\n",
      "Traceback (most recent call last):\n",
      "  File \"/Users/janneaikio/anaconda3/lib/python3.6/threading.py\", line 916, in _bootstrap_inner\n",
      "    self.run()\n",
      "  File \"/Users/janneaikio/Koodaus/python/simu/graafi.py\", line 1149, in run\n",
      "    self.GR.UpdateAll(draw=True)\n",
      "  File \"/Users/janneaikio/Koodaus/python/simu/graafi.py\", line 933, in UpdateAll\n",
      "    n.update(draw=draw)\n",
      "  File \"/Users/janneaikio/Koodaus/python/simu/graafi.py\", line 138, in update\n",
      "    self.runCargoFun(self.cargo[\"Function\"], self.cargo[\"Args\"],draw=draw)\n",
      "  File \"/Users/janneaikio/Koodaus/python/simu/graafi.py\", line 143, in runCargoFun\n",
      "    self.cargo[\"Args\"]= CargoFun((args), node = self,draw = draw)\n",
      "  File \"/Users/janneaikio/Koodaus/python/simu/nodefun.py\", line 37, in NF_Monitor\n",
      "    node.image = NFMonitor.Draw()\n",
      "  File \"/Users/janneaikio/Koodaus/python/simu/nodefun.py\", line 89, in Draw\n",
      "    data[:,i]=np.convolve(data[:,i],Vconv,mode=\"same\")\n",
      "ValueError: could not broadcast input array from shape (10000) into shape (8406)\n",
      "\n",
      "Exception in thread UpdateGR:\n",
      "Traceback (most recent call last):\n",
      "  File \"/Users/janneaikio/anaconda3/lib/python3.6/threading.py\", line 916, in _bootstrap_inner\n",
      "    self.run()\n",
      "  File \"/Users/janneaikio/Koodaus/python/simu/graafi.py\", line 1149, in run\n",
      "    self.GR.UpdateAll(draw=True)\n",
      "  File \"/Users/janneaikio/Koodaus/python/simu/graafi.py\", line 933, in UpdateAll\n",
      "    n.update(draw=draw)\n",
      "  File \"/Users/janneaikio/Koodaus/python/simu/graafi.py\", line 138, in update\n",
      "    self.runCargoFun(self.cargo[\"Function\"], self.cargo[\"Args\"],draw=draw)\n",
      "  File \"/Users/janneaikio/Koodaus/python/simu/graafi.py\", line 143, in runCargoFun\n",
      "    self.cargo[\"Args\"]= CargoFun((args), node = self,draw = draw)\n",
      "  File \"/Users/janneaikio/Koodaus/python/simu/nodefun.py\", line 37, in NF_Monitor\n",
      "    node.image = NFMonitor.Draw()\n",
      "  File \"/Users/janneaikio/Koodaus/python/simu/nodefun.py\", line 89, in Draw\n",
      "    data[:,i]=np.convolve(data[:,i],Vconv,mode=\"same\")\n",
      "ValueError: could not broadcast input array from shape (10000) into shape (9807)\n",
      "\n"
     ]
    },
    {
     "name": "stdout",
     "output_type": "stream",
     "text": [
      "['E_Batt', 'V_Batt', 'P_Batt']\n",
      "LongTermBattery:\n",
      "E_Batt [0.0, 1524177602.156437] <class 'float'>\n",
      "E_Batt [5000.0, 1524177612.320151] <class 'float'>\n",
      "['E_Batt', 'V_Batt', 'P_Batt']\n",
      "LongTermBattery:\n",
      "E_Batt [0.0, 1524177829.371011] <class 'float'>\n",
      "E_Batt [5000.0, 1524177837.632153] <class 'float'>\n",
      "['E_Batt', 'V_Batt', 'P_Batt']\n",
      "['E_Batt', 'V_Batt', 'P_Batt']\n",
      "LongTermBattery:\n",
      "E_Batt [0.0, 1524178148.226002] <class 'float'>\n",
      "E_Batt [5000.0, 1524178154.6874938] <class 'float'>\n"
     ]
    }
   ],
   "source": [
    "GR.RunThreaded(video=False, updrounds=1400)"
   ]
  },
  {
   "cell_type": "code",
   "execution_count": 2,
   "metadata": {},
   "outputs": [
    {
     "name": "stdout",
     "output_type": "stream",
     "text": [
      "['P_Tot_Out', 'P_To_Reg', 'TotalEnergy', 'NF_Monitor', 'M_reset']\n",
      "LogicPMonitor:\n",
      "M_reset [False, 1524175945.276901] <class 'bool'>\n",
      "M_reset [True, 1524176450.170837] <class 'bool'>\n",
      "['V_PV', 'E_SC', 'E_Batt', 'NF_Monitor', 'M_reset', 'M_nth']\n",
      "PowerMonitor:\n",
      "M_reset [False, 1524175945.276874] <class 'bool'>\n",
      "M_reset [True, 1524176463.084407] <class 'bool'>\n",
      "['V_PV', 'E_SC', 'E_Batt', 'NF_Monitor', 'M_reset', 'M_nth']\n",
      "PowerMonitor:\n",
      "M_nth ['30', 1524176037.275198] <class 'str'>\n",
      "M_nth ['200', 1524176475.357503] <class 'str'>\n",
      "PowerMonitor:\n",
      "NEW: M_ave ['10000', 1524176489.4164522] <class 'str'>\n",
      "['P_Tot_Out', 'P_To_Reg', 'TotalEnergy', 'NF_Monitor', 'M_reset']\n",
      "LogicPMonitor:\n",
      "NEW: M_nth ['200', 1524176524.996345] <class 'str'>\n",
      "LogicPMonitor:\n",
      "NEW: M_ave ['10000', 1524176538.920994] <class 'str'>\n",
      "Environment:\n",
      "Time [9129140.0, 1524176434.6097002] <class 'float'>\n",
      "Time [0.0, 1524176550.023377] <class 'float'>\n"
     ]
    }
   ],
   "source": [
    "GR.RunThreaded(video=False, updrounds=0)"
   ]
  },
  {
   "cell_type": "code",
   "execution_count": null,
   "metadata": {},
   "outputs": [],
   "source": [
    "import pylab as pl\n",
    "pl.plot(GR.nodes[6].cargo[\"Args\"][\"NF_Monitor\"].MonitorData)\n",
    "\n",
    "print(GR.nodes[6].cargo[\"Args\"])\n",
    "pl.show()"
   ]
  },
  {
   "cell_type": "code",
   "execution_count": null,
   "metadata": {},
   "outputs": [],
   "source": [
    "img=GR.DrawGraph2()\n",
    "cv2.imshow(\"Graafi\",img)\n",
    "\n",
    "inp=cv2.waitKeyEx(10000)\n",
    "print(inp)\n",
    "cv2.destroyAllWindows()\n",
    "cv2.waitKey(1)"
   ]
  },
  {
   "cell_type": "code",
   "execution_count": null,
   "metadata": {},
   "outputs": [],
   "source": [
    "Recolor(GR,colorscheme=\"BWColor\",color=(255,255,0),balance=.2)"
   ]
  },
  {
   "cell_type": "code",
   "execution_count": null,
   "metadata": {},
   "outputs": [],
   "source": [
    "colorBranches(GR,order=3, sat = 0.1, inv=True)"
   ]
  },
  {
   "cell_type": "code",
   "execution_count": null,
   "metadata": {},
   "outputs": [],
   "source": [
    "GR.RunThreaded(video=False)"
   ]
  },
  {
   "cell_type": "code",
   "execution_count": null,
   "metadata": {},
   "outputs": [],
   "source": [
    "dt=time.ctime(14850000)[4:-5]\n",
    "dt[:6]\n",
    "dt[7:]"
   ]
  },
  {
   "cell_type": "code",
   "execution_count": null,
   "metadata": {},
   "outputs": [],
   "source": [
    "float(\"kiaa\")"
   ]
  },
  {
   "cell_type": "code",
   "execution_count": null,
   "metadata": {
    "scrolled": true
   },
   "outputs": [],
   "source": [
    "import sys\n",
    "#while True:\n",
    "inp = sys.stdin.read(1)\n",
    "#if inp!=\"\":\n",
    "print(inp)\n",
    "#if inp==\"s\":\n",
    "#    break"
   ]
  },
  {
   "cell_type": "code",
   "execution_count": null,
   "metadata": {},
   "outputs": [],
   "source": [
    "a=np.array((0,2,0))\n",
    "mx=np.argmax(a)\n",
    "mn=np.argmin(a)\n",
    "b=[1,1,1]\n",
    "b[mx]=0\n",
    "b[mn]=0\n",
    "md=np.argmax(b)\n",
    "print(mn,md,mx)"
   ]
  },
  {
   "cell_type": "code",
   "execution_count": null,
   "metadata": {},
   "outputs": [],
   "source": [
    "a=np.ones(5)\n",
    "b=np.ones(6)\n",
    "np.convolve(a,b)"
   ]
  },
  {
   "cell_type": "code",
   "execution_count": null,
   "metadata": {},
   "outputs": [],
   "source": [
    "180.*24*3600"
   ]
  },
  {
   "cell_type": "code",
   "execution_count": null,
   "metadata": {},
   "outputs": [],
   "source": [
    "GR.controlpanelflags"
   ]
  },
  {
   "cell_type": "code",
   "execution_count": null,
   "metadata": {},
   "outputs": [],
   "source": [
    "del GR.controlpanelflags[\"labelmap\"]"
   ]
  },
  {
   "cell_type": "code",
   "execution_count": null,
   "metadata": {},
   "outputs": [],
   "source": [
    "readFloatArg(\"Lightness\",GR.nodes[2].cargo[\"Args\"])"
   ]
  },
  {
   "cell_type": "code",
   "execution_count": null,
   "metadata": {},
   "outputs": [],
   "source": [
    "for n in GR.nodes:\n",
    "    print(n.label,n.cargo[\"Args\"])"
   ]
  },
  {
   "cell_type": "code",
   "execution_count": null,
   "metadata": {},
   "outputs": [],
   "source": []
  }
 ],
 "metadata": {
  "kernelspec": {
   "display_name": "Python 3",
   "language": "python",
   "name": "python3"
  },
  "language_info": {
   "codemirror_mode": {
    "name": "ipython",
    "version": 3
   },
   "file_extension": ".py",
   "mimetype": "text/x-python",
   "name": "python",
   "nbconvert_exporter": "python",
   "pygments_lexer": "ipython3",
   "version": "3.6.4"
  }
 },
 "nbformat": 4,
 "nbformat_minor": 2
}
