{
 "cells": [
  {
   "cell_type": "code",
   "execution_count": 1,
   "metadata": {},
   "outputs": [],
   "source": [
    "from graafi import *\n",
    "from nodefun import *"
   ]
  },
  {
   "cell_type": "code",
   "execution_count": 2,
   "metadata": {},
   "outputs": [],
   "source": [
    "IMAGES={\n",
    "    #Power block\n",
    "    \"MainSwitch\":\"onoff.jpg\",\n",
    "    \"SolarCell\":None,\n",
    "    \"LongTermBattery\":None,\n",
    "    \"SuperCaps\":None,\n",
    "    \"HarvesterCircuits\":None,\n",
    "    \"VoltageRegulation\":None,\n",
    "    \"PowerMonitor\": None,\n",
    "    \n",
    "    #Logics block\n",
    "    \"Microcontroller\":None,\n",
    "    \"Sensors\":None,\n",
    "    \"Indicator\":None,\n",
    "    \n",
    "    #Radio block\n",
    "    \"CommunicationRadio\":None,\n",
    "    \"PositioningAntenna\":None,\n",
    "    \"NFC\":None,\n",
    "    \"PositioningRadio\":None,\n",
    "    \"CommunicationAntenna\":None,\n",
    "    \"RadioChannel\":None,\n",
    "    \n",
    "    #Gateway block\n",
    "    \"Gateway\":None,\n",
    "    \"Internet\":None,\n",
    "    \n",
    "    #Environment block\n",
    "    \"Environment\":None,\n",
    "    \n",
    "}\n",
    "\n",
    "\n",
    "ARGS={\n",
    "    #Power block\n",
    "    \"MainSwitch\":[\"OnState_Main\"],\n",
    "    \"SolarCell\":[\"V_PV\",\"P_PV_Out\",\"Lightness\"],\n",
    "    \"LongTermBattery\":[\"E_Batt\",\"V_Batt\",\"P_Batt\"],\n",
    "    \"SuperCaps\":[\"V_SC\",\"E_SC\",\"P_SC_Out\",\"P_SC_In\",\"P_SC_Out_Req\"],\n",
    "    \"HarvesterCircuits\":[\"OnState_Main\",\"V_PV\",\"P_PV_Out\",\"E_Batt\",\"V_Batt\",\"P_Batt\",\\\n",
    "                         \"V_SC\",\"E_SC\",\"P_SC_Out\",\"P_SC_Out_Req\",\"P_SC_In\",\"P_To_Reg\",\\\n",
    "                         \"V_To_Reg\",\"TotalEnergy\",\"PowerLowAlert\",\"PowerShuttingDown\"],\n",
    "    \"VoltageRegulation\":[\"P_To_Reg\",\"V_To_Reg\",\"P_Tot_Out\",\"V_Tot_Out\"],\n",
    "    \"PowerMonitor\": [\"V_PV\",\"E_SC\",\"Lightness\"],\n",
    "    \n",
    "    #Logics block\n",
    "    \"Microcontroller\":[\"TotalEnergy\",\"PowerLowAlert\",\"PowerShuttingDown\",\"P_Tot_Out\",\\\n",
    "                       \"V_Tot_Out\",\"P_Sensors\",\"Data_Sensors\",\"OnState_Sensors\",\\\n",
    "                       \"P_Indicator\",\"OnState_indicator\",\"OnState_Radio\",\"PositioningRadio\",\\\n",
    "                       \"RadioMessagePush\",\"RadioMessagePull\",\"NFC\"],\n",
    "    \"Sensors\":[\"P_Sensors\",\"Data_Sensors\",\"OnState_Sensors\"],\n",
    "    \"Indicator\":[\"P_indicator\",\"OnState_indicator\"],\n",
    "    \n",
    "    #Radio block\n",
    "    \"CommunicationRadio\":[\"OnState_Radio\",\"RadioMessagePush\",\"RadioMessagePull\",\\\n",
    "                          \"P_Radio\",\"Message_To_Antenna\",\"Message_From_Antenna\"],\n",
    "    \"PositioningAntenna\":[\"PositioningAntenna\"],\n",
    "    \"NFC\":[\"NFC\"],\n",
    "    \"PositioningRadio\":[\"PositioningRadio\",\"PositioningAntenna\",\"P_Positioning_Radio\"],\n",
    "    \"CommunicationAntenna\":[\"Message_To_Antenna\",\"Message_From_Antenna\",\"Message_To_Gateway\",\"Message_From_Gateway\"],\n",
    "    \"RadioChannel\":[\"Message_To_Gateway\",\"Message_From_Gateway\"],\n",
    "    \n",
    "    #Gateway block\n",
    "    \"Gateway\":[\"Message_To_Gateway\",\"Message_From_Gateway\",\"ServiceRequest_From_Gateway\",\"Service_To_Gateway\"],\n",
    "    \"Internet\":[\"ServiceRequest_From_Gateway\",\"Service_To_Gateway\"],\n",
    "    \n",
    "    #Environment block\n",
    "    \"Environment\":[\"Lightness\"]\n",
    "}\n",
    "\n",
    "CARGOFUN={ #\n",
    "    #Power block\n",
    "    \"MainSwitch\":None,\n",
    "    \"SolarCell\":NF_SolarCell,\n",
    "    \"LongTermBattery\":None,\n",
    "    \"SuperCaps\":None,\n",
    "    \"HarvesterCircuits\":None,\n",
    "    \"VoltageRegulation\":None,\n",
    "    \"PowerMonitor\": NF_Monitor,\n",
    "    \n",
    "    #Logics block\n",
    "    \"Microcontroller\":NF_Monitor,\n",
    "    \"Sensors\":NF_Monitor,\n",
    "    \"Indicator\":None,\n",
    "    \n",
    "    #Radio block\n",
    "    \"CommunicationRadio\":None,\n",
    "    \"PositioningAntenna\":None,\n",
    "    \"NFC\":None,\n",
    "    \"PositioningRadio\":None,\n",
    "    \"CommunicationAntenna\":None,\n",
    "    \"RadioChannel\":None,\n",
    "    \n",
    "    #Gateway block\n",
    "    \"Gateway\":None,\n",
    "    \"Internet\":None,\n",
    "    \n",
    "    #Environment block\n",
    "    \"Environment\":NF_Environment\n",
    "}\n",
    "\n",
    "ARGVALUES={'Data_Sensors': None,\n",
    " 'E_Batt': 1.0,\n",
    " 'E_SC': 0.0,\n",
    " 'Lightness': 0.0,\n",
    " 'Message_From_Antenna': \"\",\n",
    " 'Message_From_Gateway': \"\",\n",
    " 'Message_To_Antenna': \"\",\n",
    " 'Message_To_Gateway': \"\",\n",
    " 'NFC': None,\n",
    " 'OnState_Main': False,\n",
    " 'OnState_Radio': False,\n",
    " 'OnState_Sensors': False,\n",
    " 'OnState_indicator': False,\n",
    " 'P_Batt': 0.0,\n",
    " 'P_Indicator': 0.0,\n",
    " 'P_PV_Out': 0.0,\n",
    " 'P_Positioning_Radio': None,\n",
    " 'P_Radio': 0.0,\n",
    " 'P_SC_In': 0.0,\n",
    " 'P_SC_Out': 0.0,\n",
    " 'P_SC_Out_Req': 0.0,\n",
    " 'P_Sensors': 0.0,\n",
    " 'P_To_Reg': 0.0,\n",
    " 'P_Tot_Out': 0.0,\n",
    " 'P_indicator': 0.0,\n",
    " 'PositioningAntenna': None,\n",
    " 'PositioningRadio': None,\n",
    " 'PowerLowAlert': False,\n",
    " 'PowerShuttingDown': False,\n",
    " 'RadioMessagePull': \"\",\n",
    " 'RadioMessagePush': \"\",\n",
    " 'ServiceRequest_From_Gateway': \"\",\n",
    " 'Service_To_Gateway': \"\",\n",
    " 'TotalEnergy': 0.0,\n",
    " 'V_Batt': 3.3,\n",
    " 'V_PV': 0.0,\n",
    " 'V_SC': 0.0,\n",
    " 'V_To_Reg': 0.0,\n",
    " 'V_Tot_Out': 0.0}"
   ]
  },
  {
   "cell_type": "code",
   "execution_count": null,
   "metadata": {},
   "outputs": [],
   "source": [
    "rx=800\n",
    "ry=600\n",
    "\n",
    "GRAAFI={\"Nodes\":{},\"Edges\":[]}\n",
    "#DICTfromKEYWDS(ARGS, GRAAFI)\n",
    "DICTfromCARGOFUN(CARGOFUN, ARGS, ARGVALUES, GRAAFI)\n",
    "IMAGEStoDICT(IMAGES, GRAAFI)\n",
    "GR=GRfromDICT(GRAAFI,rx,ry)\n",
    "GR.bgcolor=(45,11,11)\n",
    "writer = cv2.VideoWriter(\"output.avi\", cv2.VideoWriter_fourcc(*\"MJPG\"), 30,(800,600))\n",
    "\n",
    "\n",
    "cv2.startWindowThread()\n",
    "cv2.namedWindow('Graafi')\n",
    "cv2.setMouseCallback('Graafi',GR.mouseaction)\n",
    "\n",
    "GR.RunWithControlPanel()\n",
    "'''\n",
    "while True:\n",
    "    GR.MoveAll(sc=1)\n",
    "    GR.UpdateAll()\n",
    "    img = GR.DrawGraph2(cp = True)#rajat=False, edges=True,labels=True, nodes =True, elabels=False, labelmap=True,logos=True)\n",
    "    #GR.DrawLabelMap(img,resolution=10)\n",
    "    #writer.write(img)\n",
    "    cv2.imshow(\"Graafi\",img)\n",
    "    inp= cv2.waitKey(1)\n",
    "    if inp==27:\n",
    "        break\n",
    "#GR.ResetNodeSizes()\n",
    "#edg2=ALTEdgesfromKEYWDS(ALTKEYWDS,GRAAFI)\n",
    "#edg1=GR.edges\n",
    "#GR.edges=edg2\n",
    "''''''\n",
    "while True:\n",
    "    #GR.MoveAll(sc=1)\n",
    "    GR.UpdateAll()\n",
    "    img = GR.DrawGraph2(rajat=True, edges=True,labels=True, nodes =True, elabels=False, labelmap=False,logos=False)\n",
    "    #GR.DrawLabelMap(img,resolution=10)\n",
    "    #writer.write(img)\n",
    "    cv2.imshow(\"Graafi\",img)\n",
    "    inp= cv2.waitKey(1)\n",
    "    if inp==27:\n",
    "        break\n",
    "'''"
   ]
  },
  {
   "cell_type": "code",
   "execution_count": null,
   "metadata": {},
   "outputs": [],
   "source": [
    "def createARGLIST(ARGS,ARGLIST):\n",
    "    NodeNames=list(ARGS.keys())\n",
    "    for nn in NodeNames:\n",
    "        for a in ARGS[nn]:\n",
    "            ARGLIST.update({a:None})\n",
    "            \n",
    "def createNODELIST(ANYLIST,NODELIST):\n",
    "    NodeNames=list(ANYLIST.keys())\n",
    "    for nn in NodeNames:\n",
    "        NODELIST.update({nn:None})"
   ]
  },
  {
   "cell_type": "code",
   "execution_count": null,
   "metadata": {},
   "outputs": [],
   "source": [
    "a={\"a\":{\"aa\":\"A\",\"ab\":\"B\"}}"
   ]
  },
  {
   "cell_type": "code",
   "execution_count": null,
   "metadata": {},
   "outputs": [],
   "source": [
    "NODELIST={}\n",
    "createNODELIST(ARGS,NODELIST)"
   ]
  },
  {
   "cell_type": "code",
   "execution_count": null,
   "metadata": {},
   "outputs": [],
   "source": [
    "\"a\" in a"
   ]
  },
  {
   "cell_type": "code",
   "execution_count": null,
   "metadata": {},
   "outputs": [],
   "source": [
    "type(1.0)"
   ]
  },
  {
   "cell_type": "code",
   "execution_count": null,
   "metadata": {},
   "outputs": [],
   "source": [
    "GRAAFI\n",
    "\n"
   ]
  },
  {
   "cell_type": "code",
   "execution_count": null,
   "metadata": {},
   "outputs": [],
   "source": [
    "data=np.array(GR.nodes[6].cargo[\"Args\"][\"NF_Monitor\"].MonitorData[-GR.nodes[6].cargo[\"Args\"][\"NF_Monitor\"].w:])\n",
    "type(data[0][12])"
   ]
  },
  {
   "cell_type": "code",
   "execution_count": null,
   "metadata": {},
   "outputs": [],
   "source": [
    "GR.nodes[18].cargo[\"Args\"]"
   ]
  },
  {
   "cell_type": "code",
   "execution_count": null,
   "metadata": {},
   "outputs": [],
   "source": [
    "GR.nodes[6].cargo[\"Args\"]"
   ]
  },
  {
   "cell_type": "code",
   "execution_count": null,
   "metadata": {},
   "outputs": [],
   "source": [
    "import time\n",
    "time.time"
   ]
  },
  {
   "cell_type": "code",
   "execution_count": null,
   "metadata": {},
   "outputs": [],
   "source": [
    "dir(cv2)"
   ]
  },
  {
   "cell_type": "code",
   "execution_count": null,
   "metadata": {},
   "outputs": [],
   "source": [
    "s=cv2.getTextSize(\"kissa\",cv2.FONT_HERSHEY_PLAIN,1.2,3)"
   ]
  },
  {
   "cell_type": "code",
   "execution_count": null,
   "metadata": {},
   "outputs": [],
   "source": [
    "s[0][0]"
   ]
  },
  {
   "cell_type": "code",
   "execution_count": null,
   "metadata": {},
   "outputs": [],
   "source": []
  }
 ],
 "metadata": {
  "kernelspec": {
   "display_name": "Python 3",
   "language": "python",
   "name": "python3"
  },
  "language_info": {
   "codemirror_mode": {
    "name": "ipython",
    "version": 3
   },
   "file_extension": ".py",
   "mimetype": "text/x-python",
   "name": "python",
   "nbconvert_exporter": "python",
   "pygments_lexer": "ipython3",
   "version": "3.6.4"
  }
 },
 "nbformat": 4,
 "nbformat_minor": 2
}
