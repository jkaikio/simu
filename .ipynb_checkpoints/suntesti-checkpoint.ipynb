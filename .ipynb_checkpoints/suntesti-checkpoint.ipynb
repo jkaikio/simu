{
 "cells": [
  {
   "cell_type": "code",
   "execution_count": 1,
   "metadata": {},
   "outputs": [],
   "source": [
    "import pylab as pl\n",
    "import numpy as np\n",
    "import time\n",
    "from sun import *"
   ]
  },
  {
   "cell_type": "code",
   "execution_count": null,
   "metadata": {},
   "outputs": [],
   "source": [
    "day=np.arange(365)\n",
    "hour=np.arange(24)\n",
    "AK=[]\n",
    "hh=[]\n",
    "hshift=AuPituuspiiriKorjaus(25.46820) #Oulun pituuspiiri\n",
    "for d in day:\n",
    "    for h in hour:\n",
    "        hshift=hshift-AuEoTKorjaus(float(d))\n",
    "        AK.append(AuKorkeus(d,h-hshift,65))\n",
    "        hh.append(h/24+d)\n",
    "pl.plot(hh,AK)\n",
    "pl.grid()\n",
    "pl.show()"
   ]
  },
  {
   "cell_type": "code",
   "execution_count": null,
   "metadata": {},
   "outputs": [
    {
     "data": {
      "image/png": "[encoded data removed]",
      "text/plain": [
       "<matplotlib.figure.Figure at 0x11dc6cac8>"
      ]
     },
     "metadata": {},
     "output_type": "display_data"
    }
   ],
   "source": [
    "t=time.localtime()\n",
    "d=t.tm_yday\n",
    "hour=np.arange(24)\n",
    "AK=[]\n",
    "AKK=[]\n",
    "DA=[]\n",
    "hh=[]\n",
    "hshift=AuPituuspiiriKorjaus(25.46820) #Oulun pituuspiiri\n",
    "for h in hour:\n",
    "    hshift=hshift-AuEoTKorjaus(float(d))\n",
    "    ak=AuKorkeus(d,h-hshift/60,65)\n",
    "    akk=AuKorkeusRefraktio(ak)\n",
    "    da=akk-ak\n",
    "    AK.append(ak)\n",
    "    AKK.append(AKK)\n",
    "    DA.append(da)\n",
    "    hh.append(h)\n",
    "pl.plot(hh,DA)\n",
    "\n",
    "pl.grid()\n",
    "pl.show()\n",
    "pl.plot(hh,AKK)\n",
    "pl.plot(hh,AK)\n",
    "pl.grid()\n",
    "pl.show()"
   ]
  },
  {
   "cell_type": "code",
   "execution_count": null,
   "metadata": {},
   "outputs": [],
   "source": [
    "pl.plot(hh,AKK)\n",
    "pl.plot(hh,AK)\n",
    "pl.grid()\n",
    "pl.show()"
   ]
  },
  {
   "cell_type": "code",
   "execution_count": null,
   "metadata": {},
   "outputs": [],
   "source": [
    "day=np.arange(365)\n",
    "#hshift=AuPituuspiiriKorjaus(position[1]) #25.46820) #Oulun pituuspiiri\n",
    "#hshift=hshift-AuEoTKorjaus(float(day))\n",
    "\n",
    "AN=[]\n",
    "AL=[]\n",
    "hshift=AuPituuspiiriKorjaus(25.46820) #Oulun pituuspiiri\n",
    "\n",
    "for d in day:\n",
    "    hs=(hshift-AuEoTKorjaus(float(d)))/60.0\n",
    "    N,L = AuNousuLasku(d,65)\n",
    "    AN.append(N+hs)\n",
    "    AL.append(L+hs)\n",
    "pl.plot(day,AN)\n",
    "pl.plot(day,AL)\n",
    "pl.grid()\n",
    "pl.show()    "
   ]
  },
  {
   "cell_type": "code",
   "execution_count": 47,
   "metadata": {},
   "outputs": [
    {
     "name": "stdout",
     "output_type": "stream",
     "text": [
      "4.4951902159125865 20.07147645075408\n",
      "Nousu:Wed Apr 22 04:29:42 1970\n",
      "Lasku:Wed Apr 22 20:04:17 1970\n",
      "0.20081431376501868 0.2008024105949282\n",
      "0.7152769686713634 0.7152673175721816\n",
      "\n",
      "-0.7546109596560857 -0.7546225910702908\n",
      "-0.00014236702647540955 -0.00015021992668318163\n"
     ]
    }
   ],
   "source": [
    "#day=np.arange(365)\n",
    "t=time.localtime()\n",
    "d=t.tm_yday\n",
    "\n",
    "AN=[]\n",
    "AL=[]\n",
    "hshift=AuPituuspiiriKorjaus(25.46820) #Oulun pituuspiiri\n",
    "\n",
    "\n",
    "hs=(hshift-AuEoTKorjaus(float(d)))/60.0\n",
    "N,L = AuNousuLasku(d,65)\n",
    "tN=float((N+hs-2)*3600)\n",
    "tL=float((L+hs-2)*3600)\n",
    "print(N+hs,L+hs)\n",
    "print(\"Nousu:\"+time.ctime(d*24*3600+tN))\n",
    "print(\"Lasku:\"+time.ctime(d*24*3600+tL))\n",
    "\n",
    "sunhN=AuKorkeus(d,N,65)\n",
    "sunhL=AuKorkeus(d,L,65)  \n",
    "print(sunhN,sunhL)\n",
    "sunhrN=AuKorkeusRefraktio(sunhN)\n",
    "sunhrL=AuKorkeusRefraktio(sunhL)\n",
    "print(sunhrN,sunhrL)\n",
    "print()\n",
    "sunhN=AuKorkeus(d,4+19.785/60.0-hs,65)\n",
    "sunhL=AuKorkeus(d,20+14.215/60-hs,65)  \n",
    "print(sunhN,sunhL)\n",
    "sunhrN=AuKorkeusRefraktio(sunhN)\n",
    "sunhrL=AuKorkeusRefraktio(sunhL)\n",
    "print(sunhrN,sunhrL)\n"
   ]
  },
  {
   "cell_type": "code",
   "execution_count": 34,
   "metadata": {},
   "outputs": [
    {
     "data": {
      "text/plain": [
       "'Thu Jan  1 02:00:00 1970'"
      ]
     },
     "execution_count": 34,
     "metadata": {},
     "output_type": "execute_result"
    }
   ],
   "source": [
    "time.ctime(0)"
   ]
  },
  {
   "cell_type": "code",
   "execution_count": 21,
   "metadata": {},
   "outputs": [
    {
     "data": {
      "text/plain": [
       "-0.638863262638008"
      ]
     },
     "execution_count": 21,
     "metadata": {},
     "output_type": "execute_result"
    }
   ],
   "source": [
    "AuKorkeus(111,4+21/60-hs,65)"
   ]
  },
  {
   "cell_type": "code",
   "execution_count": 27,
   "metadata": {},
   "outputs": [
    {
     "data": {
      "text/plain": [
       "time.struct_time(tm_year=1970, tm_mon=4, tm_mday=22, tm_hour=6, tm_min=29, tm_sec=42, tm_wday=2, tm_yday=112, tm_isdst=0)"
      ]
     },
     "execution_count": 27,
     "metadata": {},
     "output_type": "execute_result"
    }
   ],
   "source": [
    "time.localtime(d*24*3600+tN)"
   ]
  },
  {
   "cell_type": "code",
   "execution_count": 31,
   "metadata": {},
   "outputs": [
    {
     "data": {
      "text/plain": [
       "18"
      ]
     },
     "execution_count": 31,
     "metadata": {},
     "output_type": "execute_result"
    }
   ],
   "source": [
    "hshift"
   ]
  },
  {
   "cell_type": "code",
   "execution_count": null,
   "metadata": {},
   "outputs": [],
   "source": []
  }
 ],
 "metadata": {
  "kernelspec": {
   "display_name": "Python 3",
   "language": "python",
   "name": "python3"
  },
  "language_info": {
   "codemirror_mode": {
    "name": "ipython",
    "version": 3
   },
   "file_extension": ".py",
   "mimetype": "text/x-python",
   "name": "python",
   "nbconvert_exporter": "python",
   "pygments_lexer": "ipython3",
   "version": "3.6.4"
  }
 },
 "nbformat": 4,
 "nbformat_minor": 2
}
