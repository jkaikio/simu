{
 "cells": [
  {
   "cell_type": "code",
   "execution_count": 1,
   "metadata": {},
   "outputs": [],
   "source": [
    "from graafi import *"
   ]
  },
  {
   "cell_type": "code",
   "execution_count": 2,
   "metadata": {},
   "outputs": [],
   "source": [
    "IMAGES={\n",
    "    #Power block\n",
    "    \"MainSwitch\":None,\n",
    "    \"SolarCell\":None,\n",
    "    \"LongTermBattery\":None,\n",
    "    \"SuperCaps\":None,\n",
    "    \"HarvesterCircuits\":None,\n",
    "    \"VoltageRegulation\":None,\n",
    "    \"PowerMonitor\": None,\n",
    "    \n",
    "    #Logics block\n",
    "    \"Microcontroller\":None,\n",
    "    \"Sensors\":None,\n",
    "    \"Indicator\":None,\n",
    "    \n",
    "    #Radio block\n",
    "    \"CommunicationRadio\":None,\n",
    "    \"PositioningAntenna\":None,\n",
    "    \"NFC\":None,\n",
    "    \"PositioningRadio\":None,\n",
    "    \"CommunicationAntenna\":None,\n",
    "    \"RadioChannel\":None,\n",
    "    \n",
    "    #Gateway block\n",
    "    \"Gateway\":None,\n",
    "    \"Internet\":None,\n",
    "    \n",
    "    #Environment block\n",
    "    \"Environment\":None,\n",
    "    \n",
    "}\n",
    "\n",
    "\n",
    "ARGS={\n",
    "    #Power block\n",
    "    \"MainSwitch\":[\"OnState_Main\"],\n",
    "    \"SolarCell\":[\"V_PV\",\"P_PV_Out\",\"Lightness\"],\n",
    "    \"LongTermBattery\":[\"E_Batt\",\"V_Batt\",\"P_Batt\"],\n",
    "    \"SuperCaps\":[\"V_SC\",\"E_SC\",\"P_SC_Out\",\"P_SC_In\",\"P_SC_Out_Req\"],\n",
    "    \"HarvesterCircuits\":[\"OnState_Main\",\"V_PV\",\"P_PV_Out\",\"E_Batt\",\"V_Batt\",\"P_Batt\",\\\n",
    "                         \"V_SC\",\"E_SC\",\"P_SC_Out\",\"P_SC_Out_Req\",\"P_SC_In\",\"P_To_Reg\",\\\n",
    "                         \"V_To_Reg\",\"TotalEnergy\",\"PowerLowAlert\",\"PowerShuttingDown\"],\n",
    "    \"VoltageRegulation\":[\"P_To_Reg\",\"V_To_Reg\",\"P_Tot_Out\",\"V_Tot_Out\"],\n",
    "    \"PowerMonitor\": [\"V_PV\",\"E_SC\"],\n",
    "    \n",
    "    #Logics block\n",
    "    \"Microcontroller\":[\"TotalEnergy\",\"PowerLowAlert\",\"PowerShuttingDown\",\"P_Tot_Out\",\\\n",
    "                       \"V_Tot_Out\",\"P_Sensors\",\"Data_Sensors\",\"OnState_Sensors\",\\\n",
    "                       \"P_Indicator\",\"OnState_indicator\",\"OnState_Radio\",\"PositioningRadio\",\\\n",
    "                       \"RadioMessagePush\",\"RadioMessagePull\",\"NFC\"],\n",
    "    \"Sensors\":[\"P_Sensors\",\"Data_Sensors\",\"OnState_Sensors\"],\n",
    "    \"Indicator\":[\"P_indicator\",\"OnState_indicator\"],\n",
    "    \n",
    "    #Radio block\n",
    "    \"CommunicationRadio\":[\"OnState_Radio\",\"RadioMessagePush\",\"RadioMessagePull\",\\\n",
    "                          \"P_Radio\",\"Message_To_Antenna\",\"Message_From_Antenna\"],\n",
    "    \"PositioningAntenna\":[\"PositioningAntenna\"],\n",
    "    \"NFC\":[\"NFC\"],\n",
    "    \"PositioningRadio\":[\"PositioningRadio\",\"PositioningAntenna\",\"P_Positioning_Radio\"],\n",
    "    \"CommunicationAntenna\":[\"Message_To_Antenna\",\"Message_From_Antenna\",\"Message_To_Gateway\",\"Message_From_Gateway\"],\n",
    "    \"RadioChannel\":[\"Message_To_Gateway\",\"Message_From_Gateway\"],\n",
    "    \n",
    "    #Gateway block\n",
    "    \"Gateway\":[\"Message_To_Gateway\",\"Message_From_Gateway\",\"ServiceRequest_From_Gateway\",\"Service_To_Gateway\"],\n",
    "    \"Internet\":[\"ServiceRequest_From_Gateway\",\"Service_To_Gateway\"],\n",
    "    \n",
    "    #Environment block\n",
    "    \"Environment\":[\"Lightness\"]\n",
    "}\n",
    "\n",
    "CARGOFUN={ #\n",
    "    #Power block\n",
    "    \"MainSwitch\":None,\n",
    "    \"SolarCell\":None,\n",
    "    \"LongTermBattery\":None,\n",
    "    \"SuperCaps\":None,\n",
    "    \"HarvesterCircuits\":None,\n",
    "    \"VoltageRegulation\":None,\n",
    "    \"PowerMonitor\": None,\n",
    "    \n",
    "    #Logics block\n",
    "    \"Microcontroller\":None,\n",
    "    \"Sensors\":None,\n",
    "    \"Indicator\":None,\n",
    "    \n",
    "    #Radio block\n",
    "    \"CommunicationRadio\":None,\n",
    "    \"PositioningAntenna\":None,\n",
    "    \"NFC\":None,\n",
    "    \"PositioningRadio\":None,\n",
    "    \"CommunicationAntenna\":None,\n",
    "    \"RadioChannel\":None,\n",
    "    \n",
    "    #Gateway block\n",
    "    \"Gateway\":None,\n",
    "    \"Internet\":None,\n",
    "    \n",
    "    #Environment block\n",
    "    \"Environment\":None\n",
    "}\n"
   ]
  },
  {
   "cell_type": "code",
   "execution_count": 8,
   "metadata": {},
   "outputs": [],
   "source": [
    "rx=800\n",
    "ry=600\n",
    "\n",
    "GRAAFI={\"Nodes\":{},\"Edges\":[]}\n",
    "#DICTfromKEYWDS(ARGS, GRAAFI)\n",
    "DICTfromCARGOFUN(CARGOFUN, ARGS, GRAAFI)\n",
    "IMAGEStoDICT(IMAGES, GRAAFI)\n",
    "GR=GRfromDICT(GRAAFI,rx,ry)\n",
    "GR.bgcolor=(45,11,11)\n",
    "writer = cv2.VideoWriter(\"output.avi\", cv2.VideoWriter_fourcc(*\"MJPG\"), 30,(800,600))\n",
    "\n",
    "\n",
    "cv2.startWindowThread()\n",
    "cv2.namedWindow('Graafi')\n",
    "cv2.setMouseCallback('Graafi',GR.mouseaction)\n",
    "while True:\n",
    "    GR.MoveAll(sc=0.3)\n",
    "    img = GR.DrawGraph2(rajat=False, edges=True,labels=True, nodes =True, elabels=False, labelmap=True,logos=True)\n",
    "    #GR.DrawLabelMap(img,resolution=10)\n",
    "    writer.write(img)\n",
    "    cv2.imshow(\"Graafi\",img)\n",
    "    inp= cv2.waitKey(1)\n",
    "    if inp==27:\n",
    "        break\n",
    "#GR.ResetNodeSizes()\n",
    "#edg2=ALTEdgesfromKEYWDS(ALTKEYWDS,GRAAFI)\n",
    "#edg1=GR.edges\n",
    "#GR.edges=edg2\n",
    "\n",
    "while True:\n",
    "    GR.MoveAll(sc=1)\n",
    "    img = GR.DrawGraph2(rajat=True, edges=True,labels=True, nodes =True, elabels=False, labelmap=False,logos=True)\n",
    "    #GR.DrawLabelMap(img,resolution=10)\n",
    "    writer.write(img)\n",
    "    cv2.imshow(\"Graafi\",img)\n",
    "    inp= cv2.waitKey(1)\n",
    "    if inp==27:\n",
    "        break\n"
   ]
  },
  {
   "cell_type": "code",
   "execution_count": null,
   "metadata": {},
   "outputs": [],
   "source": [
    "GRAAFI[\"Nodes\"][\"MainSwitch\"]={\"Keywords\":ARGS[\"MainSwitch\"]}"
   ]
  },
  {
   "cell_type": "code",
   "execution_count": null,
   "metadata": {},
   "outputs": [],
   "source": [
    "a={\"a\":{\"aa\":\"A\",\"ab\":\"B\"}}"
   ]
  },
  {
   "cell_type": "code",
   "execution_count": 7,
   "metadata": {},
   "outputs": [
    {
     "data": {
      "text/plain": [
       "{'Args': ['V_SC', 'E_SC', 'P_SC_Out', 'P_SC_In', 'P_SC_Out_Req'],\n",
       " 'Function': None,\n",
       " 'image': None,\n",
       " 'node': <graafi.node at 0x117e426a0>}"
      ]
     },
     "execution_count": 7,
     "metadata": {},
     "output_type": "execute_result"
    }
   ],
   "source": [
    "GR.nodes[3].cargo"
   ]
  },
  {
   "cell_type": "code",
   "execution_count": null,
   "metadata": {},
   "outputs": [],
   "source": [
    "a[\"a\"][\"ac\"]={\"C\":5}"
   ]
  },
  {
   "cell_type": "code",
   "execution_count": null,
   "metadata": {},
   "outputs": [],
   "source": [
    "print(a)"
   ]
  },
  {
   "cell_type": "code",
   "execution_count": null,
   "metadata": {},
   "outputs": [],
   "source": []
  }
 ],
 "metadata": {
  "kernelspec": {
   "display_name": "Python 3",
   "language": "python",
   "name": "python3"
  },
  "language_info": {
   "codemirror_mode": {
    "name": "ipython",
    "version": 3
   },
   "file_extension": ".py",
   "mimetype": "text/x-python",
   "name": "python",
   "nbconvert_exporter": "python",
   "pygments_lexer": "ipython3",
   "version": "3.6.4"
  }
 },
 "nbformat": 4,
 "nbformat_minor": 2
}
