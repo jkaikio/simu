{
 "cells": [
  {
   "cell_type": "code",
   "execution_count": 1,
   "metadata": {
    "scrolled": true
   },
   "outputs": [],
   "source": [
    "from stickerGR import *\n",
    "GR.RunThreaded(video=False,updrounds=10)"
   ]
  },
  {
   "cell_type": "code",
   "execution_count": null,
   "metadata": {},
   "outputs": [],
   "source": [
    "GR.RunThreaded(video=False, updrounds=1400)"
   ]
  },
  {
   "cell_type": "code",
   "execution_count": null,
   "metadata": {},
   "outputs": [],
   "source": [
    "GR.RunThreaded(video=False, updrounds=0)"
   ]
  },
  {
   "cell_type": "code",
   "execution_count": null,
   "metadata": {},
   "outputs": [],
   "source": [
    "import pylab as pl\n",
    "pl.plot(GR.nodes[10].cargo[\"Args\"][\"NF_Monitor\"].MonitorData[:][1])\n",
    "\n",
    "print(GR.nodes[6].cargo[\"Args\"])\n",
    "pl.show()"
   ]
  },
  {
   "cell_type": "code",
   "execution_count": null,
   "metadata": {},
   "outputs": [],
   "source": [
    "img=cv2.imread(\"onoff2.png\")\n",
    "bgcolor=(230,223,123)\n",
    "im=np.ones((428,428,3),dtype=np.uint8)\n",
    "im[:,:,0]=bgcolor[0]\n",
    "im[:,:,1]=bgcolor[1]\n",
    "im[:,:,2]=bgcolor[2]\n",
    "imB=im[107-22:107-22+236,107:107+214,0]\n",
    "imG=im[107-22:107-22+236,107:107+214,1]\n",
    "imR=im[107-22:107-22+236,107:107+214,2]\n",
    "B=img[:,:,1].copy()\n",
    "imB[B<200]=0\n",
    "imG[B<200]=234\n",
    "imR[B<200]=77\n",
    "im[107-22:107-22+236,107:107+214, 0]=imB.copy()\n",
    "im[107-22:107-22+236,107:107+214, 1]=imG.copy()\n",
    "im[107-22:107-22+236,107:107+214, 2]=imR.copy()\n",
    " \n",
    "cv2.imshow(\"Graafi\",im)\n",
    "\n",
    "inp=cv2.waitKeyEx(10000)\n",
    "print(inp)\n",
    "cv2.destroyAllWindows()\n",
    "cv2.waitKey(1)"
   ]
  },
  {
   "cell_type": "code",
   "execution_count": null,
   "metadata": {},
   "outputs": [],
   "source": [
    "Recolor(GR,colorscheme=\"BWColor\",color=(255,255,0),balance=.2)"
   ]
  },
  {
   "cell_type": "code",
   "execution_count": null,
   "metadata": {},
   "outputs": [],
   "source": [
    "colorBranches(GR,order=3, sat = 0.1, inv=True)"
   ]
  },
  {
   "cell_type": "code",
   "execution_count": null,
   "metadata": {},
   "outputs": [],
   "source": [
    "import pylab as pl\n",
    "md=np.array(GR.nodes[10].cargo[\"Args\"][\"NF_Monitor\"].MonitorData)\n",
    "\n",
    "pl.plot(md[180000:200000,1])\n",
    "\n",
    "print(GR.nodes[6].cargo[\"Args\"])\n",
    "pl.show()"
   ]
  },
  {
   "cell_type": "code",
   "execution_count": null,
   "metadata": {},
   "outputs": [],
   "source": [
    "sum(i == 0 for i in md[:,1])/len(md[:,1])"
   ]
  },
  {
   "cell_type": "code",
   "execution_count": null,
   "metadata": {},
   "outputs": [],
   "source": [
    "np.array(GR.nodes[0].color,dtype=np.uint8)-128"
   ]
  },
  {
   "cell_type": "code",
   "execution_count": null,
   "metadata": {
    "scrolled": true
   },
   "outputs": [],
   "source": [
    "import sys\n",
    "#while True:\n",
    "inp = sys.stdin.read(1)\n",
    "#if inp!=\"\":\n",
    "print(inp)\n",
    "#if inp==\"s\":\n",
    "#    break"
   ]
  },
  {
   "cell_type": "code",
   "execution_count": null,
   "metadata": {},
   "outputs": [],
   "source": [
    "a=np.array((0,2,0))\n",
    "mx=np.argmax(a)\n",
    "mn=np.argmin(a)\n",
    "b=[1,1,1]\n",
    "b[mx]=0\n",
    "b[mn]=0\n",
    "md=np.argmax(b)\n",
    "print(mn,md,mx)"
   ]
  },
  {
   "cell_type": "code",
   "execution_count": null,
   "metadata": {},
   "outputs": [],
   "source": [
    "a=np.ones(5)\n",
    "b=np.ones(6)\n",
    "np.convolve(a,b)"
   ]
  },
  {
   "cell_type": "code",
   "execution_count": null,
   "metadata": {},
   "outputs": [],
   "source": [
    "180.*24*3600"
   ]
  },
  {
   "cell_type": "code",
   "execution_count": null,
   "metadata": {},
   "outputs": [],
   "source": [
    "GR.controlpanelflags"
   ]
  },
  {
   "cell_type": "code",
   "execution_count": null,
   "metadata": {},
   "outputs": [],
   "source": [
    "del GR.controlpanelflags[\"labelmap\"]"
   ]
  },
  {
   "cell_type": "code",
   "execution_count": null,
   "metadata": {},
   "outputs": [],
   "source": [
    "readFloatArg(\"Lightness\",GR.nodes[2].cargo[\"Args\"])"
   ]
  },
  {
   "cell_type": "code",
   "execution_count": null,
   "metadata": {},
   "outputs": [],
   "source": [
    "for n in GR.nodes:\n",
    "    print(n.label,n.cargo[\"Args\"])"
   ]
  },
  {
   "cell_type": "code",
   "execution_count": null,
   "metadata": {},
   "outputs": [],
   "source": []
  },
  {
   "cell_type": "code",
   "execution_count": 236,
   "metadata": {
    "scrolled": true
   },
   "outputs": [
    {
     "name": "stderr",
     "output_type": "stream",
     "text": [
      "C:\\Users\\eleajk\\AppData\\Local\\Continuum\\anaconda3\\lib\\site-packages\\ipykernel_launcher.py:25: RuntimeWarning: overflow encountered in exp\n",
      "C:\\Users\\eleajk\\AppData\\Local\\Continuum\\anaconda3\\lib\\site-packages\\ipykernel_launcher.py:25: RuntimeWarning: invalid value encountered in subtract\n"
     ]
    },
    {
     "data": {
      "image/png": "[encoded data removed]",
      "text/plain": [
       "<matplotlib.figure.Figure at 0xa024fd0>"
      ]
     },
     "metadata": {},
     "output_type": "display_data"
    }
   ],
   "source": [
    "import pylab as pl\n",
    "import numpy as np\n",
    "from graafi import sigmoid\n",
    "#http://www.ni.com/white-paper/7230/en/\n",
    "k = 0.000086173303 #eV / K\n",
    "T=2000\n",
    "perkT = 1/((273+T)*k) \n",
    "I0=1\n",
    "L=np.arange(0,100,10)#[0,10,100,1000,10000,100000]\n",
    "L=[1]\n",
    "IL=1\n",
    "U=np.arange(0,5,.01)\n",
    "RS=2\n",
    "RSH=1000\n",
    "n=1\n",
    "for l in L:\n",
    "    #I = Il+I0*(e(qU/kT)-1)\n",
    "    V = U - l*IL*RS\n",
    "    I = I0*(np.exp(V*perkT)-1)-l*IL\n",
    "    I1=[min(i,0) for i in I]\n",
    "    \n",
    "    for j in range(15):\n",
    "        V = U + I*RS\n",
    "        #V = np.array([max(v,0) for v in V])\n",
    "        I = I0*(np.exp(V*perkT/n)-1)-l*IL-V/RSH\n",
    "    I2=[min(i,0) for i in I]\n",
    "    pl.plot(U,I2)\n",
    "    P=U*I2\n",
    "\n",
    "    #sd=sigmoid((deg-7)/2)\n",
    "pl.plot(U,I1)\n",
    "#pl.plot(U,I2)\n",
    "pl.grid()\n",
    "pl.show()"
   ]
  },
  {
   "cell_type": "code",
   "execution_count": 152,
   "metadata": {},
   "outputs": [
    {
     "data": {
      "image/png": "[encoded data removed]",
      "text/plain": [
       "<matplotlib.figure.Figure at 0x9f546a0>"
      ]
     },
     "metadata": {},
     "output_type": "display_data"
    }
   ],
   "source": [
    "a= np.arange(0,2,.1)\n",
    "ba=a\n",
    "b=(np.exp(-a)-1)\n",
    "ba= a+b/2\n",
    "c=(np.exp(-ba)-1)-ba\n",
    "ba= ba+c\n",
    "c=(np.exp(-ba)-1)-ba\n",
    "ba= ba+c\n",
    "c=(np.exp(-ba)-1)-ba\n",
    "ba= ba+c\n",
    "c=(np.exp(-ba)-1)-ba\n",
    "\n",
    "pl.plot(a,b)\n",
    "pl.plot(a,c)\n",
    "pl.grid()"
   ]
  },
  {
   "cell_type": "code",
   "execution_count": null,
   "metadata": {},
   "outputs": [],
   "source": [
    "import pylab as pl\n",
    "import numpy as np\n",
    "from graafi import sigmoid\n",
    "deg=np.arange(-10,30)\n",
    "sd=sigmoid((deg-7)/2)\n",
    "pl.plot(deg,sd)\n",
    "pl.grid()\n",
    "pl.show()"
   ]
  },
  {
   "cell_type": "code",
   "execution_count": null,
   "metadata": {},
   "outputs": [],
   "source": [
    "GR.nodes[6].cargo[\"Args\"][\"NF_Monitor\"].MonitorData"
   ]
  },
  {
   "cell_type": "code",
   "execution_count": 216,
   "metadata": {},
   "outputs": [
    {
     "data": {
      "image/png": "[encoded data removed]",
      "text/plain": [
       "<matplotlib.figure.Figure at 0xb4757b8>"
      ]
     },
     "metadata": {},
     "output_type": "display_data"
    }
   ],
   "source": [
    "import pylab as pl\n",
    "import numpy as np\n",
    "from graafi import sigmoid\n",
    "\n",
    "#http://www.ee.sc.edu/personal/faculty/simin/ELCT566/21%20Solar%20Cells%20II.pdf\n",
    "k = 0.000086173303 #eV / K\n",
    "T=20\n",
    "perkT = 1/((273+T)*k) \n",
    "#Iph= qAG(Lh+Le)\n",
    "Iph= 1\n",
    "Is= 1\n",
    "U=np.arange(-2,5,.01)\n",
    "\n",
    "I = Is*(np.exp((U-2)*perkT)-1) - Iph\n",
    "I1 = [min(i,0) for i in I]\n",
    "pl.plot(U,I1)\n",
    "pl.grid()\n",
    "pl.show()"
   ]
  },
  {
   "cell_type": "code",
   "execution_count": 198,
   "metadata": {},
   "outputs": [
    {
     "data": {
      "text/plain": [
       "42.507406998240086"
      ]
     },
     "execution_count": 198,
     "metadata": {},
     "output_type": "execute_result"
    }
   ],
   "source": [
    "1/(k*273)"
   ]
  },
  {
   "cell_type": "code",
   "execution_count": 192,
   "metadata": {},
   "outputs": [
    {
     "data": {
      "text/plain": [
       "2000"
      ]
     },
     "execution_count": 192,
     "metadata": {},
     "output_type": "execute_result"
    }
   ],
   "source": [
    "T"
   ]
  }
 ],
 "metadata": {
  "kernelspec": {
   "display_name": "Python 3",
   "language": "python",
   "name": "python3"
  },
  "language_info": {
   "codemirror_mode": {
    "name": "ipython",
    "version": 3
   },
   "file_extension": ".py",
   "mimetype": "text/x-python",
   "name": "python",
   "nbconvert_exporter": "python",
   "pygments_lexer": "ipython3",
   "version": "3.6.4"
  }
 },
 "nbformat": 4,
 "nbformat_minor": 2
}
