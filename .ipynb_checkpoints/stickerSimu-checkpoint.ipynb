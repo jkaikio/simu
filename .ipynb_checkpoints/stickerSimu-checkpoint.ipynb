{
 "cells": [
  {
   "cell_type": "code",
   "execution_count": 1,
   "metadata": {
    "scrolled": false
   },
   "outputs": [
    {
     "name": "stdout",
     "output_type": "stream",
     "text": [
      "Graafi:new\n",
      ":NF_Monitor\n"
     ]
    },
    {
     "ename": "KeyError",
     "evalue": "'NF_Monitor'",
     "output_type": "error",
     "traceback": [
      "\u001b[0;31m---------------------------------------------------------------------------\u001b[0m",
      "\u001b[0;31mKeyError\u001b[0m                                  Traceback (most recent call last)",
      "\u001b[0;32m<ipython-input-1-d8dae46869cb>\u001b[0m in \u001b[0;36m<module>\u001b[0;34m()\u001b[0m\n\u001b[1;32m      1\u001b[0m \u001b[0;32mfrom\u001b[0m \u001b[0mstickerGR\u001b[0m \u001b[0;32mimport\u001b[0m \u001b[0;34m*\u001b[0m\u001b[0;34m\u001b[0m\u001b[0m\n\u001b[0;32m----> 2\u001b[0;31m \u001b[0mGR\u001b[0m\u001b[0;34m.\u001b[0m\u001b[0mRunThreaded\u001b[0m\u001b[0;34m(\u001b[0m\u001b[0mvideo\u001b[0m\u001b[0;34m=\u001b[0m\u001b[0;32mFalse\u001b[0m\u001b[0;34m,\u001b[0m\u001b[0mupdrounds\u001b[0m\u001b[0;34m=\u001b[0m\u001b[0;36m10\u001b[0m\u001b[0;34m)\u001b[0m\u001b[0;34m\u001b[0m\u001b[0m\n\u001b[0m",
      "\u001b[0;32m~/Koodaus/python/simu/graafi.py\u001b[0m in \u001b[0;36mRunThreaded\u001b[0;34m(self, video, updrounds)\u001b[0m\n\u001b[1;32m    716\u001b[0m                 \u001b[0;32melse\u001b[0m\u001b[0;34m:\u001b[0m \u001b[0mmov\u001b[0m \u001b[0;34m=\u001b[0m \u001b[0;32mFalse\u001b[0m\u001b[0;34m\u001b[0m\u001b[0m\n\u001b[1;32m    717\u001b[0m \u001b[0;34m\u001b[0m\u001b[0m\n\u001b[0;32m--> 718\u001b[0;31m             \u001b[0mimg\u001b[0m \u001b[0;34m=\u001b[0m \u001b[0mself\u001b[0m\u001b[0;34m.\u001b[0m\u001b[0mDrawGraph2\u001b[0m\u001b[0;34m(\u001b[0m\u001b[0mcp\u001b[0m \u001b[0;34m=\u001b[0m \u001b[0;32mTrue\u001b[0m\u001b[0;34m)\u001b[0m\u001b[0;31m#rajat=False, edges=True,labels=True, nodes =True, elabels=False, labelmap=True,logos=True)\u001b[0m\u001b[0;34m\u001b[0m\u001b[0m\n\u001b[0m\u001b[1;32m    719\u001b[0m \u001b[0;34m\u001b[0m\u001b[0m\n\u001b[1;32m    720\u001b[0m             \u001b[0;32mif\u001b[0m \u001b[0;34m\"video\"\u001b[0m \u001b[0;32min\u001b[0m \u001b[0mself\u001b[0m\u001b[0;34m.\u001b[0m\u001b[0mcontrolpanelflags\u001b[0m\u001b[0;34m:\u001b[0m\u001b[0;34m\u001b[0m\u001b[0m\n",
      "\u001b[0;32m~/Koodaus/python/simu/graafi.py\u001b[0m in \u001b[0;36mDrawGraph2\u001b[0;34m(self, rajat, nodes, edges, labels, elabels, labelmap, logos, cp)\u001b[0m\n\u001b[1;32m    822\u001b[0m         \u001b[0;32mif\u001b[0m \u001b[0;34m\"NodeWrite\"\u001b[0m \u001b[0;32min\u001b[0m \u001b[0mself\u001b[0m\u001b[0;34m.\u001b[0m\u001b[0mmousememory\u001b[0m\u001b[0;34m:\u001b[0m\u001b[0;34m\u001b[0m\u001b[0m\n\u001b[1;32m    823\u001b[0m             \u001b[0mn\u001b[0m\u001b[0;34m=\u001b[0m \u001b[0mself\u001b[0m\u001b[0;34m.\u001b[0m\u001b[0mmousememory\u001b[0m\u001b[0;34m.\u001b[0m\u001b[0mpop\u001b[0m\u001b[0;34m(\u001b[0m\u001b[0;34m\"NodeWrite\"\u001b[0m\u001b[0;34m,\u001b[0m\u001b[0;32mNone\u001b[0m\u001b[0;34m)\u001b[0m\u001b[0;34m\u001b[0m\u001b[0m\n\u001b[0;32m--> 824\u001b[0;31m             \u001b[0mn\u001b[0m\u001b[0;34m.\u001b[0m\u001b[0mwriteArgs\u001b[0m\u001b[0;34m(\u001b[0m\u001b[0mimg\u001b[0m\u001b[0;34m,\u001b[0m\u001b[0mscale\u001b[0m \u001b[0;34m=\u001b[0m \u001b[0msc\u001b[0m\u001b[0;34m,\u001b[0m \u001b[0mcent\u001b[0m\u001b[0;34m=\u001b[0m\u001b[0mc\u001b[0m\u001b[0;34m)\u001b[0m\u001b[0;34m\u001b[0m\u001b[0m\n\u001b[0m\u001b[1;32m    825\u001b[0m \u001b[0;34m\u001b[0m\u001b[0m\n\u001b[1;32m    826\u001b[0m         \u001b[0;32mif\u001b[0m \u001b[0;34m\"GRWrite\"\u001b[0m \u001b[0;32min\u001b[0m \u001b[0mself\u001b[0m\u001b[0;34m.\u001b[0m\u001b[0mmousememory\u001b[0m\u001b[0;34m:\u001b[0m\u001b[0;34m\u001b[0m\u001b[0m\n",
      "\u001b[0;32m~/Koodaus/python/simu/graafi.py\u001b[0m in \u001b[0;36mwriteArgs\u001b[0;34m(self, im, scale, cent)\u001b[0m\n\u001b[1;32m    181\u001b[0m                 \u001b[0;32mif\u001b[0m \u001b[0mmedium\u001b[0m\u001b[0;34m==\u001b[0m\u001b[0;34m\"function\"\u001b[0m \u001b[0;32mor\u001b[0m \u001b[0mmedium\u001b[0m \u001b[0;34m==\u001b[0m \u001b[0;34m\"Function\"\u001b[0m\u001b[0;34m:\u001b[0m\u001b[0;34m\u001b[0m\u001b[0m\n\u001b[1;32m    182\u001b[0m                     \u001b[0;31m#try:\u001b[0m\u001b[0;34m\u001b[0m\u001b[0;34m\u001b[0m\u001b[0m\n\u001b[0;32m--> 183\u001b[0;31m                     \u001b[0mfun\u001b[0m \u001b[0;34m=\u001b[0m \u001b[0mglobals\u001b[0m\u001b[0;34m(\u001b[0m\u001b[0;34m)\u001b[0m\u001b[0;34m[\u001b[0m\u001b[0mcommand\u001b[0m\u001b[0;34m]\u001b[0m\u001b[0;34m\u001b[0m\u001b[0m\n\u001b[0m\u001b[1;32m    184\u001b[0m                     \u001b[0mself\u001b[0m\u001b[0;34m.\u001b[0m\u001b[0mcargo\u001b[0m\u001b[0;34m[\u001b[0m\u001b[0;34m\"Function\"\u001b[0m\u001b[0;34m]\u001b[0m\u001b[0;34m=\u001b[0m\u001b[0mfun\u001b[0m\u001b[0;34m\u001b[0m\u001b[0m\n\u001b[1;32m    185\u001b[0m                     \u001b[0;31m#except:\u001b[0m\u001b[0;34m\u001b[0m\u001b[0;34m\u001b[0m\u001b[0m\n",
      "\u001b[0;31mKeyError\u001b[0m: 'NF_Monitor'"
     ]
    }
   ],
   "source": [
    "from stickerGR import *\n",
    "from nodefun import *\n",
    "GR.RunThreaded(video=False,updrounds=10)"
   ]
  },
  {
   "cell_type": "code",
   "execution_count": null,
   "metadata": {},
   "outputs": [],
   "source": [
    "globals()[\"NF_Monitor\"]"
   ]
  },
  {
   "cell_type": "code",
   "execution_count": null,
   "metadata": {},
   "outputs": [],
   "source": [
    "from graafi import *\n",
    "import numpy as np\n",
    "import cv2\n",
    "#GR.RunThreaded(video=False, updrounds=1400)"
   ]
  },
  {
   "cell_type": "code",
   "execution_count": null,
   "metadata": {},
   "outputs": [],
   "source": [
    "GR.RunThreaded(video=False, updrounds=10)"
   ]
  },
  {
   "cell_type": "code",
   "execution_count": null,
   "metadata": {},
   "outputs": [],
   "source": [
    "import pickle\n",
    "file=open(\"Graafi.pickle\",\"wb\")\n",
    "pickle.dump(GR, file)\n",
    "file.close()"
   ]
  },
  {
   "cell_type": "code",
   "execution_count": null,
   "metadata": {},
   "outputs": [],
   "source": [
    "import pickle\n",
    "file=open(\"Graafi.GR\",\"rb\")\n",
    "GR=pickle.load(file)\n",
    "file.close()"
   ]
  },
  {
   "cell_type": "code",
   "execution_count": null,
   "metadata": {},
   "outputs": [],
   "source": [
    "GR.nodes[0].cargo"
   ]
  },
  {
   "cell_type": "code",
   "execution_count": null,
   "metadata": {},
   "outputs": [],
   "source": [
    " GR=loadGraph()"
   ]
  },
  {
   "cell_type": "code",
   "execution_count": null,
   "metadata": {},
   "outputs": [],
   "source": [
    "import pylab as pl\n",
    "pl.plot(GR.nodes[10].cargo[\"Args\"][\"NF_Monitor\"].MonitorData[:][1])\n",
    "\n",
    "print(GR.nodes[6].cargo[\"Args\"])\n",
    "pl.show()"
   ]
  },
  {
   "cell_type": "code",
   "execution_count": null,
   "metadata": {},
   "outputs": [],
   "source": [
    "img=cv2.imread(\"onoff2.png\")\n",
    "bgcolor=(230,223,123)\n",
    "im=np.ones((428,428,3),dtype=np.uint8)\n",
    "im[:,:,0]=bgcolor[0]\n",
    "im[:,:,1]=bgcolor[1]\n",
    "im[:,:,2]=bgcolor[2]\n",
    "imB=im[107-22:107-22+236,107:107+214,0]\n",
    "imG=im[107-22:107-22+236,107:107+214,1]\n",
    "imR=im[107-22:107-22+236,107:107+214,2]\n",
    "B=img[:,:,1].copy()\n",
    "imB[B<200]=0\n",
    "imG[B<200]=234\n",
    "imR[B<200]=77\n",
    "im[107-22:107-22+236,107:107+214, 0]=imB.copy()\n",
    "im[107-22:107-22+236,107:107+214, 1]=imG.copy()\n",
    "im[107-22:107-22+236,107:107+214, 2]=imR.copy()\n",
    " \n",
    "cv2.imshow(\"Graafi\",im)\n",
    "\n",
    "inp=cv2.waitKeyEx(10000)\n",
    "print(inp)\n",
    "cv2.destroyAllWindows()\n",
    "cv2.waitKey(1)"
   ]
  },
  {
   "cell_type": "code",
   "execution_count": null,
   "metadata": {},
   "outputs": [],
   "source": [
    "Recolor(GR,colorscheme=\"BWColor\",color=(255,255,0),balance=.2)"
   ]
  },
  {
   "cell_type": "code",
   "execution_count": null,
   "metadata": {},
   "outputs": [],
   "source": [
    "colorBranches(GR,order=3, sat = 0.1, inv=True)"
   ]
  },
  {
   "cell_type": "code",
   "execution_count": null,
   "metadata": {},
   "outputs": [],
   "source": [
    "import pylab as pl\n",
    "md=np.array(GR.nodes[10].cargo[\"Args\"][\"NF_Monitor\"].MonitorData)\n",
    "\n",
    "pl.plot(md[180000:200000,1])\n",
    "\n",
    "print(GR.nodes[6].cargo[\"Args\"])\n",
    "pl.show()"
   ]
  },
  {
   "cell_type": "code",
   "execution_count": null,
   "metadata": {},
   "outputs": [],
   "source": [
    "sum(i == 0 for i in md[:,1])/len(md[:,1])"
   ]
  },
  {
   "cell_type": "code",
   "execution_count": null,
   "metadata": {},
   "outputs": [],
   "source": [
    "np.array(GR.nodes[0].color,dtype=np.uint8)-128"
   ]
  },
  {
   "cell_type": "code",
   "execution_count": null,
   "metadata": {
    "scrolled": true
   },
   "outputs": [],
   "source": [
    "import sys\n",
    "#while True:\n",
    "inp = sys.stdin.read(1)\n",
    "#if inp!=\"\":\n",
    "print(inp)\n",
    "#if inp==\"s\":\n",
    "#    break"
   ]
  },
  {
   "cell_type": "code",
   "execution_count": null,
   "metadata": {},
   "outputs": [],
   "source": [
    "a=np.array((0,2,0))\n",
    "mx=np.argmax(a)\n",
    "mn=np.argmin(a)\n",
    "b=[1,1,1]\n",
    "b[mx]=0\n",
    "b[mn]=0\n",
    "md=np.argmax(b)\n",
    "print(mn,md,mx)"
   ]
  },
  {
   "cell_type": "code",
   "execution_count": null,
   "metadata": {},
   "outputs": [],
   "source": [
    "a=np.ones(5)\n",
    "b=np.ones(6)\n",
    "np.convolve(a,b)"
   ]
  },
  {
   "cell_type": "code",
   "execution_count": null,
   "metadata": {},
   "outputs": [],
   "source": [
    "180.*24*3600"
   ]
  },
  {
   "cell_type": "code",
   "execution_count": null,
   "metadata": {},
   "outputs": [],
   "source": [
    "GR.controlpanelflags"
   ]
  },
  {
   "cell_type": "code",
   "execution_count": null,
   "metadata": {},
   "outputs": [],
   "source": [
    "del GR.controlpanelflags[\"labelmap\"]"
   ]
  },
  {
   "cell_type": "code",
   "execution_count": null,
   "metadata": {},
   "outputs": [],
   "source": [
    "readFloatArg(\"Lightness\",GR.nodes[2].cargo[\"Args\"])"
   ]
  },
  {
   "cell_type": "code",
   "execution_count": null,
   "metadata": {},
   "outputs": [],
   "source": [
    "for n in GR.nodes:\n",
    "    print(n.label,n.cargo[\"Args\"])"
   ]
  },
  {
   "cell_type": "code",
   "execution_count": null,
   "metadata": {
    "scrolled": true
   },
   "outputs": [],
   "source": [
    "import pylab as pl\n",
    "import numpy as np\n",
    "\n",
    "cap=0.99\n",
    "U=np.arange(2.8,4.2,.01)\n",
    "capacity= sigmoid((U-3.75)*10)\n",
    "V=U[np.argmin((cap-capacity)*(cap-capacity))]\n",
    "print(U[np.argmin((cap-capacity)*(cap-capacity))])\n",
    "pl.plot(capacity,U)\n",
    "pl.show()"
   ]
  },
  {
   "cell_type": "code",
   "execution_count": null,
   "metadata": {},
   "outputs": [],
   "source": [
    "eval(\"NF_Monitor\")"
   ]
  },
  {
   "cell_type": "code",
   "execution_count": null,
   "metadata": {
    "scrolled": true
   },
   "outputs": [],
   "source": [
    "import pylab as pl\n",
    "import numpy as np\n",
    "from graafi import sigmoid\n",
    "#http://www.ni.com/white-paper/7230/en/\n",
    "k = 0.000086173303 #eV / K\n",
    "T=20\n",
    "perkT = 1/((273+T)*k) \n",
    "\n",
    "#L=np.arange(0,100,10)#[0,10,100,1000,10000,100000]\n",
    "L=np.array([0,300,800])\n",
    "kL=0.0008/800\n",
    "IL=kL*L\n",
    "U=np.arange(0,7,.01)\n",
    "\n",
    "#RS=5/IL[1]\n",
    "RSH=80000\n",
    "I0=0.00001\n",
    "n=22\n",
    "\n",
    "IL0 = I0*(np.exp(-5*perkT/n)-1)-5/RSH\n",
    "\n",
    "for Il in IL:\n",
    "    #I = Il+I0*(e(qU/kT)-1)\n",
    "    V = U - 5#Il*RS\n",
    "    I = I0*(np.exp(V*perkT/n)-1)-Il+V/RSH-IL0\n",
    "    I1=[min(i,0) for i in I]\n",
    "    PMx=-1*min(I1*U)\n",
    "    pl.plot(U,I1*U)\n",
    "    #for j in range(2):\n",
    "    #    V = U + I*RS\n",
    "    #    #V = np.array([max(v,0) for v in V])\n",
    "    #    I = I0*(np.exp(V*perkT/n)-1) - l*Il + V/RSH\n",
    "    #    I2=[min(i,0) for i in I]\n",
    "    #    pl.plot(U,I2)\n",
    "    #P=U*I2\n",
    "\n",
    "    #sd=sigmoid((deg-7)/2)\n",
    "#pl.plot(U,I1)\n",
    "#pl.plot(U,I2)\n",
    "\n",
    "pl.grid()\n",
    "pl.show()"
   ]
  },
  {
   "cell_type": "code",
   "execution_count": null,
   "metadata": {},
   "outputs": [],
   "source": [
    "kL"
   ]
  },
  {
   "cell_type": "code",
   "execution_count": null,
   "metadata": {},
   "outputs": [],
   "source": [
    "\n",
    "\n",
    "\n",
    "L=300\n",
    "perkT = 1/0.026\n",
    "\n",
    "I0=0.00001\n",
    "kL=7.5e-7\n",
    "IL=kL*L\n",
    "U=np.arange(0,7,.01)\n",
    "\n",
    "#RS=5/IL[1]\n",
    "RSH=80000\n",
    "n=22\n",
    "V = U - 5#Il*RS\n",
    "I = I0*(np.exp(V*perkT/n)-1)-IL+ V/RSH\n",
    "#I=[min(i,0) for i in I]\n",
    "PMx=-1*min(I*U)\n",
    "V_PV = U[np.argmin(I*U)]\n",
    "I_PV = -1*I[np.argmin(I*U)]\n",
    "P_PV_Out = V_PV*I_PV    \n",
    "print(V_PV, I_PV, P_PV_Out)"
   ]
  },
  {
   "cell_type": "code",
   "execution_count": null,
   "metadata": {},
   "outputs": [],
   "source": [
    "a= np.arange(0,2,.1)\n",
    "ba=a\n",
    "b=(np.exp(-a)-1)\n",
    "ba= a+b/2\n",
    "c=(np.exp(-ba)-1)-ba\n",
    "ba= ba+c\n",
    "c=(np.exp(-ba)-1)-ba\n",
    "ba= ba+c\n",
    "c=(np.exp(-ba)-1)-ba\n",
    "ba= ba+c\n",
    "c=(np.exp(-ba)-1)-ba\n",
    "\n",
    "pl.plot(a,b)\n",
    "pl.plot(a,c)\n",
    "pl.grid()"
   ]
  },
  {
   "cell_type": "code",
   "execution_count": null,
   "metadata": {},
   "outputs": [],
   "source": [
    "import pylab as pl\n",
    "import numpy as np\n",
    "from graafi import sigmoid\n",
    "deg=np.arange(-10,30)\n",
    "sd=sigmoid((deg-7)/2)\n",
    "pl.plot(deg,sd)\n",
    "pl.grid()\n",
    "pl.show()"
   ]
  },
  {
   "cell_type": "code",
   "execution_count": null,
   "metadata": {},
   "outputs": [],
   "source": [
    "GR.nodes[6].cargo[\"Args\"][\"NF_Monitor\"].MonitorData"
   ]
  },
  {
   "cell_type": "code",
   "execution_count": null,
   "metadata": {},
   "outputs": [],
   "source": [
    "import pylab as pl\n",
    "import numpy as np\n",
    "from graafi import sigmoid\n",
    "\n",
    "#http://www.ee.sc.edu/personal/faculty/simin/ELCT566/21%20Solar%20Cells%20II.pdf\n",
    "k = 0.000086173303 #eV / K\n",
    "T=20\n",
    "perkT = 1/((273+T)*k) \n",
    "#Iph= qAG(Lh+Le)\n",
    "Iph= 1\n",
    "Is= 1\n",
    "U=np.arange(-2,5,.01)\n",
    "\n",
    "I = Is*(np.exp((U-2)*perkT)-1) - Iph\n",
    "I1 = [min(i,0) for i in I]\n",
    "pl.plot(U,I1)\n",
    "pl.grid()\n",
    "pl.show()"
   ]
  },
  {
   "cell_type": "code",
   "execution_count": null,
   "metadata": {},
   "outputs": [],
   "source": [
    "for n in GR.nodes:\n",
    "    print(n.label,n.cargo)"
   ]
  },
  {
   "cell_type": "code",
   "execution_count": null,
   "metadata": {},
   "outputs": [],
   "source": []
  }
 ],
 "metadata": {
  "kernelspec": {
   "display_name": "Python 3",
   "language": "python",
   "name": "python3"
  },
  "language_info": {
   "codemirror_mode": {
    "name": "ipython",
    "version": 3
   },
   "file_extension": ".py",
   "mimetype": "text/x-python",
   "name": "python",
   "nbconvert_exporter": "python",
   "pygments_lexer": "ipython3",
   "version": "3.6.4"
  }
 },
 "nbformat": 4,
 "nbformat_minor": 2
}
